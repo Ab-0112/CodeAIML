{
 "cells": [
  {
   "cell_type": "code",
   "execution_count": 1,
   "metadata": {},
   "outputs": [],
   "source": [
    "import cv2"
   ]
  },
  {
   "cell_type": "code",
   "execution_count": 2,
   "metadata": {},
   "outputs": [],
   "source": [
    "# Read the image\n",
    "image = cv2.imread(\"./mountain.jpg\")"
   ]
  },
  {
   "cell_type": "code",
   "execution_count": 3,
   "metadata": {},
   "outputs": [
    {
     "name": "stdout",
     "output_type": "stream",
     "text": [
      "Image loaded successfully.\n"
     ]
    }
   ],
   "source": [
    "# check if image is loaded successfully\n",
    "\n",
    "if image is None:\n",
    "    print(\"Error : Cound not load the image.\")\n",
    "else:\n",
    "    print(\"Image loaded successfully.\")"
   ]
  },
  {
   "cell_type": "code",
   "execution_count": 4,
   "metadata": {},
   "outputs": [],
   "source": [
    "# Display the image\n",
    "\n",
    "cv2.imshow(\"Image window\", image)\n",
    "cv2.waitKey(0)\n",
    "cv2.destroyAllWindows()"
   ]
  },
  {
   "cell_type": "code",
   "execution_count": 6,
   "metadata": {},
   "outputs": [
    {
     "name": "stdout",
     "output_type": "stream",
     "text": [
      "[[[172 155 116]\n",
      "  [172 155 116]\n",
      "  [172 155 116]\n",
      "  ...\n",
      "  [165 150 104]\n",
      "  [164 149 103]\n",
      "  [165 150 104]]\n",
      "\n",
      " [[172 155 116]\n",
      "  [172 155 116]\n",
      "  [172 155 116]\n",
      "  ...\n",
      "  [165 150 104]\n",
      "  [165 150 104]\n",
      "  [165 150 104]]\n",
      "\n",
      " [[173 156 117]\n",
      "  [173 156 117]\n",
      "  [173 156 117]\n",
      "  ...\n",
      "  [166 151 105]\n",
      "  [166 151 105]\n",
      "  [166 151 105]]\n",
      "\n",
      " ...\n",
      "\n",
      " [[ 14  10   9]\n",
      "  [ 16  12  11]\n",
      "  [ 23  19  18]\n",
      "  ...\n",
      "  [ 23  19  18]\n",
      "  [ 22  18  17]\n",
      "  [ 22  18  17]]\n",
      "\n",
      " [[ 23  20  16]\n",
      "  [ 20  17  13]\n",
      "  [ 18  15  11]\n",
      "  ...\n",
      "  [ 23  19  18]\n",
      "  [ 23  19  18]\n",
      "  [ 23  19  18]]\n",
      "\n",
      " [[ 23  20  16]\n",
      "  [ 20  17  13]\n",
      "  [ 18  15  11]\n",
      "  ...\n",
      "  [ 23  19  18]\n",
      "  [ 23  19  18]\n",
      "  [ 23  19  18]]]\n"
     ]
    }
   ],
   "source": [
    "print(image)\n"
   ]
  },
  {
   "cell_type": "code",
   "execution_count": 7,
   "metadata": {},
   "outputs": [
    {
     "data": {
      "text/plain": [
       "True"
      ]
     },
     "execution_count": 7,
     "metadata": {},
     "output_type": "execute_result"
    }
   ],
   "source": [
    "# Write the image\n",
    "\n",
    "image_new = image + 50\n",
    "cv2.imwrite(\"./output.jpg\", image_new)\n"
   ]
  },
  {
   "cell_type": "code",
   "execution_count": 8,
   "metadata": {},
   "outputs": [
    {
     "name": "stdout",
     "output_type": "stream",
     "text": [
      "[[[222 205 166]\n",
      "  [222 205 166]\n",
      "  [222 205 166]\n",
      "  ...\n",
      "  [215 200 154]\n",
      "  [214 199 153]\n",
      "  [215 200 154]]\n",
      "\n",
      " [[222 205 166]\n",
      "  [222 205 166]\n",
      "  [222 205 166]\n",
      "  ...\n",
      "  [215 200 154]\n",
      "  [215 200 154]\n",
      "  [215 200 154]]\n",
      "\n",
      " [[223 206 167]\n",
      "  [223 206 167]\n",
      "  [223 206 167]\n",
      "  ...\n",
      "  [216 201 155]\n",
      "  [216 201 155]\n",
      "  [216 201 155]]\n",
      "\n",
      " ...\n",
      "\n",
      " [[ 64  60  59]\n",
      "  [ 66  62  61]\n",
      "  [ 73  69  68]\n",
      "  ...\n",
      "  [ 73  69  68]\n",
      "  [ 72  68  67]\n",
      "  [ 72  68  67]]\n",
      "\n",
      " [[ 73  70  66]\n",
      "  [ 70  67  63]\n",
      "  [ 68  65  61]\n",
      "  ...\n",
      "  [ 73  69  68]\n",
      "  [ 73  69  68]\n",
      "  [ 73  69  68]]\n",
      "\n",
      " [[ 73  70  66]\n",
      "  [ 70  67  63]\n",
      "  [ 68  65  61]\n",
      "  ...\n",
      "  [ 73  69  68]\n",
      "  [ 73  69  68]\n",
      "  [ 73  69  68]]]\n"
     ]
    }
   ],
   "source": [
    "print(image_new)"
   ]
  },
  {
   "cell_type": "code",
   "execution_count": null,
   "metadata": {},
   "outputs": [],
   "source": []
  }
 ],
 "metadata": {
  "kernelspec": {
   "display_name": "ML",
   "language": "python",
   "name": "python3"
  },
  "language_info": {
   "codemirror_mode": {
    "name": "ipython",
    "version": 3
   },
   "file_extension": ".py",
   "mimetype": "text/x-python",
   "name": "python",
   "nbconvert_exporter": "python",
   "pygments_lexer": "ipython3",
   "version": "3.11.11"
  }
 },
 "nbformat": 4,
 "nbformat_minor": 2
}
