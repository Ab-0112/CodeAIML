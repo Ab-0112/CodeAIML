{
 "cells": [
  {
   "cell_type": "code",
   "execution_count": 1,
   "metadata": {},
   "outputs": [],
   "source": [
    "import cv2"
   ]
  },
  {
   "cell_type": "code",
   "execution_count": 2,
   "metadata": {},
   "outputs": [],
   "source": [
    "# Read the image\n",
    "image = cv2.imread(\"./mountain.jpg\")"
   ]
  },
  {
   "cell_type": "code",
   "execution_count": 3,
   "metadata": {},
   "outputs": [
    {
     "name": "stdout",
     "output_type": "stream",
     "text": [
      "Image loaded successfully.\n"
     ]
    }
   ],
   "source": [
    "# check if image is loaded successfully\n",
    "\n",
    "if image is None:\n",
    "    print(\"Error : Cound not load the image.\")\n",
    "else:\n",
    "    print(\"Image loaded successfully.\")"
   ]
  },
  {
   "cell_type": "code",
   "execution_count": 4,
   "metadata": {},
   "outputs": [],
   "source": [
    "# Display the image\n",
    "\n",
    "cv2.imshow(\"Image window\", image)\n",
    "cv2.waitKey(0)\n",
    "cv2.destroyAllWindows()"
   ]
  },
  {
   "cell_type": "code",
   "execution_count": 6,
   "metadata": {},
   "outputs": [
    {
     "name": "stdout",
     "output_type": "stream",
     "text": [
      "[[[172 155 116]\n",
      "  [172 155 116]\n",
      "  [172 155 116]\n",
      "  ...\n",
      "  [165 150 104]\n",
      "  [164 149 103]\n",
      "  [165 150 104]]\n",
      "\n",
      " [[172 155 116]\n",
      "  [172 155 116]\n",
      "  [172 155 116]\n",
      "  ...\n",
      "  [165 150 104]\n",
      "  [165 150 104]\n",
      "  [165 150 104]]\n",
      "\n",
      " [[173 156 117]\n",
      "  [173 156 117]\n",
      "  [173 156 117]\n",
      "  ...\n",
      "  [166 151 105]\n",
      "  [166 151 105]\n",
      "  [166 151 105]]\n",
      "\n",
      " ...\n",
      "\n",
      " [[ 14  10   9]\n",
      "  [ 16  12  11]\n",
      "  [ 23  19  18]\n",
      "  ...\n",
      "  [ 23  19  18]\n",
      "  [ 22  18  17]\n",
      "  [ 22  18  17]]\n",
      "\n",
      " [[ 23  20  16]\n",
      "  [ 20  17  13]\n",
      "  [ 18  15  11]\n",
      "  ...\n",
      "  [ 23  19  18]\n",
      "  [ 23  19  18]\n",
      "  [ 23  19  18]]\n",
      "\n",
      " [[ 23  20  16]\n",
      "  [ 20  17  13]\n",
      "  [ 18  15  11]\n",
      "  ...\n",
      "  [ 23  19  18]\n",
      "  [ 23  19  18]\n",
      "  [ 23  19  18]]]\n"
     ]
    }
   ],
   "source": [
    "print(image)\n"
   ]
  },
  {
   "cell_type": "code",
   "execution_count": 13,
   "metadata": {},
   "outputs": [
    {
     "data": {
      "text/plain": [
       "True"
      ]
     },
     "execution_count": 13,
     "metadata": {},
     "output_type": "execute_result"
    }
   ],
   "source": [
    "# Write the image\n",
    "\n",
    "image_new = image - 20\n",
    "cv2.imwrite(\"./output.jpg\", image_new)\n"
   ]
  },
  {
   "cell_type": "code",
   "execution_count": 12,
   "metadata": {},
   "outputs": [
    {
     "name": "stdout",
     "output_type": "stream",
     "text": [
      "[[[222 205 166]\n",
      "  [222 205 166]\n",
      "  [222 205 166]\n",
      "  ...\n",
      "  [215 200 154]\n",
      "  [214 199 153]\n",
      "  [215 200 154]]\n",
      "\n",
      " [[222 205 166]\n",
      "  [222 205 166]\n",
      "  [222 205 166]\n",
      "  ...\n",
      "  [215 200 154]\n",
      "  [215 200 154]\n",
      "  [215 200 154]]\n",
      "\n",
      " [[223 206 167]\n",
      "  [223 206 167]\n",
      "  [223 206 167]\n",
      "  ...\n",
      "  [216 201 155]\n",
      "  [216 201 155]\n",
      "  [216 201 155]]\n",
      "\n",
      " ...\n",
      "\n",
      " [[ 64  60  59]\n",
      "  [ 66  62  61]\n",
      "  [ 73  69  68]\n",
      "  ...\n",
      "  [ 73  69  68]\n",
      "  [ 72  68  67]\n",
      "  [ 72  68  67]]\n",
      "\n",
      " [[ 73  70  66]\n",
      "  [ 70  67  63]\n",
      "  [ 68  65  61]\n",
      "  ...\n",
      "  [ 73  69  68]\n",
      "  [ 73  69  68]\n",
      "  [ 73  69  68]]\n",
      "\n",
      " [[ 73  70  66]\n",
      "  [ 70  67  63]\n",
      "  [ 68  65  61]\n",
      "  ...\n",
      "  [ 73  69  68]\n",
      "  [ 73  69  68]\n",
      "  [ 73  69  68]]]\n"
     ]
    }
   ],
   "source": [
    "print(image_new)"
   ]
  },
  {
   "cell_type": "code",
   "execution_count": 16,
   "metadata": {},
   "outputs": [
    {
     "name": "stdout",
     "output_type": "stream",
     "text": [
      "[[[ 51  92  53]\n",
      "  [ 19  58  22]\n",
      "  [ 19  59  29]\n",
      "  ...\n",
      "  [188 228 233]\n",
      "  [184 226 230]\n",
      "  [185 227 232]]\n",
      "\n",
      " [[ 40  83  44]\n",
      "  [ 23  65  28]\n",
      "  [ 17  59  29]\n",
      "  ...\n",
      "  [188 228 233]\n",
      "  [186 228 233]\n",
      "  [186 228 233]]\n",
      "\n",
      " [[ 43  91  49]\n",
      "  [ 17  64  27]\n",
      "  [  5  52  21]\n",
      "  ...\n",
      "  [190 229 234]\n",
      "  [189 230 235]\n",
      "  [188 229 234]]\n",
      "\n",
      " ...\n",
      "\n",
      " [[ 31  55  31]\n",
      "  [ 30  54  30]\n",
      "  [ 30  54  30]\n",
      "  ...\n",
      "  [ 70  71  14]\n",
      "  [ 71  72  15]\n",
      "  [ 71  72  15]]\n",
      "\n",
      " [[ 29  53  29]\n",
      "  [ 28  52  28]\n",
      "  [ 29  53  29]\n",
      "  ...\n",
      "  [ 70  71  14]\n",
      "  [ 71  72  15]\n",
      "  [ 71  72  15]]\n",
      "\n",
      " [[ 27  51  26]\n",
      "  [ 27  51  26]\n",
      "  [ 29  53  29]\n",
      "  ...\n",
      "  [ 70  71  14]\n",
      "  [ 71  72  15]\n",
      "  [ 71  72  15]]]\n",
      "Image loaded successfully.\n"
     ]
    }
   ],
   "source": [
    "# Read the image\n",
    "image1 = cv2.imread(\"./butterfly.jpg\")\n",
    "print(image1)\n",
    "# check if image is loaded successfully \n",
    "if image1 is None:\n",
    "    print(\"Error : Cound not load the image.\")\n",
    "else:\n",
    "    print(\"Image loaded successfully.\")"
   ]
  },
  {
   "cell_type": "code",
   "execution_count": 15,
   "metadata": {},
   "outputs": [],
   "source": [
    "# Display the image\n",
    "\n",
    "cv2.imshow(\"Image window\", image1)\n",
    "cv2.waitKey(0)\n",
    "cv2.destroyAllWindows()"
   ]
  },
  {
   "cell_type": "code",
   "execution_count": 18,
   "metadata": {},
   "outputs": [
    {
     "name": "stdout",
     "output_type": "stream",
     "text": [
      "[[[ 71 112  73]\n",
      "  [ 39  78  42]\n",
      "  [ 39  79  49]\n",
      "  ...\n",
      "  [208 248 253]\n",
      "  [204 246 250]\n",
      "  [205 247 252]]\n",
      "\n",
      " [[ 60 103  64]\n",
      "  [ 43  85  48]\n",
      "  [ 37  79  49]\n",
      "  ...\n",
      "  [208 248 253]\n",
      "  [206 248 253]\n",
      "  [206 248 253]]\n",
      "\n",
      " [[ 63 111  69]\n",
      "  [ 37  84  47]\n",
      "  [ 25  72  41]\n",
      "  ...\n",
      "  [210 249 254]\n",
      "  [209 250 255]\n",
      "  [208 249 254]]\n",
      "\n",
      " ...\n",
      "\n",
      " [[ 51  75  51]\n",
      "  [ 50  74  50]\n",
      "  [ 50  74  50]\n",
      "  ...\n",
      "  [ 90  91  34]\n",
      "  [ 91  92  35]\n",
      "  [ 91  92  35]]\n",
      "\n",
      " [[ 49  73  49]\n",
      "  [ 48  72  48]\n",
      "  [ 49  73  49]\n",
      "  ...\n",
      "  [ 90  91  34]\n",
      "  [ 91  92  35]\n",
      "  [ 91  92  35]]\n",
      "\n",
      " [[ 47  71  46]\n",
      "  [ 47  71  46]\n",
      "  [ 49  73  49]\n",
      "  ...\n",
      "  [ 90  91  34]\n",
      "  [ 91  92  35]\n",
      "  [ 91  92  35]]]\n"
     ]
    }
   ],
   "source": [
    "# Write the image\n",
    "\n",
    "image_new1 = image1 + 20\n",
    "cv2.imwrite(\"./output1.jpg\", image_new1)\n",
    "print(image_new1)\n"
   ]
  },
  {
   "cell_type": "code",
   "execution_count": null,
   "metadata": {},
   "outputs": [],
   "source": []
  }
 ],
 "metadata": {
  "kernelspec": {
   "display_name": "ML",
   "language": "python",
   "name": "python3"
  },
  "language_info": {
   "codemirror_mode": {
    "name": "ipython",
    "version": 3
   },
   "file_extension": ".py",
   "mimetype": "text/x-python",
   "name": "python",
   "nbconvert_exporter": "python",
   "pygments_lexer": "ipython3",
   "version": "3.11.11"
  }
 },
 "nbformat": 4,
 "nbformat_minor": 2
}
