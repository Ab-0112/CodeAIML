{
 "cells": [
  {
   "cell_type": "markdown",
   "metadata": {
    "id": "3-pSsZbyq5DO"
   },
   "source": [
    "# Introduction to tensors\n",
    "![](https://drive.google.com/uc?id=1O6UR_eZELiWmcdro_u6tGUYdwTvaIYHU)"
   ]
  },
  {
   "cell_type": "code",
   "execution_count": 2,
   "metadata": {
    "executionInfo": {
     "elapsed": 4515,
     "status": "ok",
     "timestamp": 1737480032979,
     "user": {
      "displayName": "nimoy",
      "userId": "12145814232676261569"
     },
     "user_tz": -330
    },
    "id": "SAe1tGTT0ip0"
   },
   "outputs": [],
   "source": [
    "import torch"
   ]
  },
  {
   "cell_type": "markdown",
   "metadata": {
    "id": "JOx6jfxb0mUL"
   },
   "source": [
    "# creating tensors"
   ]
  },
  {
   "cell_type": "code",
   "execution_count": 3,
   "metadata": {
    "colab": {
     "base_uri": "https://localhost:8080/"
    },
    "executionInfo": {
     "elapsed": 4,
     "status": "ok",
     "timestamp": 1737480032980,
     "user": {
      "displayName": "nimoy",
      "userId": "12145814232676261569"
     },
     "user_tz": -330
    },
    "id": "S-pncdnA0juo",
    "outputId": "7b94d844-8791-461a-d2f6-4eeffdc1def4"
   },
   "outputs": [
    {
     "name": "stdout",
     "output_type": "stream",
     "text": [
      "Scalar tensor :  tensor(42)\n",
      "Scalar Dimension :  0\n",
      "Shape of Scalar tensor :  torch.Size([])\n"
     ]
    }
   ],
   "source": [
    "# 1. Scalar tensor 0D\n",
    "\n",
    "scalar = torch.tensor(42)\n",
    "print(\"Scalar tensor : \", scalar)\n",
    "print(\"Scalar Dimension : \", scalar.ndim)\n",
    "print(\"Shape of Scalar tensor : \", scalar.shape)"
   ]
  },
  {
   "cell_type": "code",
   "execution_count": 4,
   "metadata": {
    "colab": {
     "base_uri": "https://localhost:8080/"
    },
    "executionInfo": {
     "elapsed": 3,
     "status": "ok",
     "timestamp": 1737480032980,
     "user": {
      "displayName": "nimoy",
      "userId": "12145814232676261569"
     },
     "user_tz": -330
    },
    "id": "THXfLZKY1RYa",
    "outputId": "9097ccf8-a037-426d-e057-4c811b7b15eb"
   },
   "outputs": [
    {
     "name": "stdout",
     "output_type": "stream",
     "text": [
      "vector tensor :  tensor([1, 2, 3])\n",
      "vector Dimension :  1\n",
      "Shape of vector tensor :  torch.Size([3])\n"
     ]
    }
   ],
   "source": [
    "# 1D tensor : Vector\n",
    "\n",
    "vector = torch.tensor([1,2,3])\n",
    "print(\"vector tensor : \", vector)\n",
    "print(\"vector Dimension : \", vector.ndim)\n",
    "print(\"Shape of vector tensor : \", vector.shape)\n"
   ]
  },
  {
   "cell_type": "code",
   "execution_count": 5,
   "metadata": {
    "colab": {
     "base_uri": "https://localhost:8080/"
    },
    "executionInfo": {
     "elapsed": 2,
     "status": "ok",
     "timestamp": 1737480155474,
     "user": {
      "displayName": "nimoy",
      "userId": "12145814232676261569"
     },
     "user_tz": -330
    },
    "id": "ECuj0yuU1nKD",
    "outputId": "33916099-dc9e-4814-f4dc-b4354fab81d7"
   },
   "outputs": [
    {
     "name": "stdout",
     "output_type": "stream",
     "text": [
      "matrix tensor :  tensor([[1., 2.],\n",
      "        [3., 4.]])\n",
      "matrix Dimension :  2\n",
      "Shape of matrix tensor :  torch.Size([2, 2])\n"
     ]
    }
   ],
   "source": [
    "# matrix 2D\n",
    "matrix = torch.tensor([[1.,2.], [3.,4.]])\n",
    "print(\"matrix tensor : \", matrix)\n",
    "print(\"matrix Dimension : \", matrix.ndim)\n",
    "print(\"Shape of matrix tensor : \", matrix.shape)"
   ]
  },
  {
   "cell_type": "code",
   "execution_count": 6,
   "metadata": {
    "colab": {
     "base_uri": "https://localhost:8080/"
    },
    "executionInfo": {
     "elapsed": 2,
     "status": "ok",
     "timestamp": 1737480032980,
     "user": {
      "displayName": "nimoy",
      "userId": "12145814232676261569"
     },
     "user_tz": -330
    },
    "id": "EKFrTIyA2TnF",
    "outputId": "3cef5033-6a89-4355-925a-7da6a1378b6a"
   },
   "outputs": [
    {
     "name": "stdout",
     "output_type": "stream",
     "text": [
      "tensor3d tensor :  tensor([[[1, 2],\n",
      "         [3, 4]],\n",
      "\n",
      "        [[1, 2],\n",
      "         [3, 4]]])\n",
      "tensor3d Dimension :  3\n",
      "Shape of tensor3d tensor :  torch.Size([2, 2, 2])\n"
     ]
    }
   ],
   "source": [
    "# 3D tensor\n",
    "tensor3d = torch.tensor([\n",
    "                      [[1,2], [3,4]],\n",
    "                      [[1,2], [3,4]]\n",
    "                      ])\n",
    "print(\"tensor3d tensor : \", tensor3d)\n",
    "print(\"tensor3d Dimension : \", tensor3d.ndim)\n",
    "print(\"Shape of tensor3d tensor : \", tensor3d.shape)"
   ]
  },
  {
   "cell_type": "code",
   "execution_count": 7,
   "metadata": {
    "colab": {
     "base_uri": "https://localhost:8080/"
    },
    "executionInfo": {
     "elapsed": 718,
     "status": "ok",
     "timestamp": 1737480040881,
     "user": {
      "displayName": "nimoy",
      "userId": "12145814232676261569"
     },
     "user_tz": -330
    },
    "id": "OlQyjpbL2jKV",
    "outputId": "c73fb937-5a1b-4f3e-8640-5d503cea1a8d"
   },
   "outputs": [
    {
     "name": "stdout",
     "output_type": "stream",
     "text": [
      "CUDA is not available on this machine.\n"
     ]
    }
   ],
   "source": [
    "# GPU acceleration\n",
    "\n",
    "if torch.cuda.is_available():\n",
    "  gpu_tensor = vector.to('cuda')\n",
    "  print(\"Tensor on GPU: \", gpu_tensor)\n",
    "else:\n",
    "  print(\"CUDA is not available on this machine.\")"
   ]
  },
  {
   "cell_type": "code",
   "execution_count": 10,
   "metadata": {
    "colab": {
     "base_uri": "https://localhost:8080/"
    },
    "executionInfo": {
     "elapsed": 467,
     "status": "ok",
     "timestamp": 1737480403709,
     "user": {
      "displayName": "nimoy",
      "userId": "12145814232676261569"
     },
     "user_tz": -330
    },
    "id": "w4NrBCFq4LtJ",
    "outputId": "4b19ba5f-e530-4933-96a9-43d8ab92f544"
   },
   "outputs": [
    {
     "name": "stdout",
     "output_type": "stream",
     "text": [
      "Data type of matrix : torch.float32\n",
      "Device of Tensor :  cpu\n",
      "Is tensor on CUDA :  False\n",
      "Size:  torch.Size([2, 2])\n",
      "Number of elements :  4\n"
     ]
    }
   ],
   "source": [
    "# Tensor properties\n",
    "\n",
    "print(\"Data type of matrix :\", matrix.dtype)\n",
    "\n",
    "print(\"Device of Tensor : \", matrix.device)\n",
    "print(\"Is tensor on CUDA : \", matrix.is_cuda)\n",
    "print(\"Size: \", matrix.size())\n",
    "\n",
    "print(\"Number of elements : \", matrix.numel())"
   ]
  },
  {
   "cell_type": "code",
   "execution_count": null,
   "metadata": {
    "id": "H8jAc0eE5GvD"
   },
   "outputs": [],
   "source": []
  }
 ],
 "metadata": {
  "accelerator": "GPU",
  "colab": {
   "authorship_tag": "ABX9TyOUOoG01IALKZ5iQjS4pMr8",
   "gpuType": "T4",
   "provenance": []
  },
  "kernelspec": {
   "display_name": "ML",
   "language": "python",
   "name": "python3"
  },
  "language_info": {
   "codemirror_mode": {
    "name": "ipython",
    "version": 3
   },
   "file_extension": ".py",
   "mimetype": "text/x-python",
   "name": "python",
   "nbconvert_exporter": "python",
   "pygments_lexer": "ipython3",
   "version": "3.11.11"
  }
 },
 "nbformat": 4,
 "nbformat_minor": 0
}
