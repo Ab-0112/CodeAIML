{
 "cells": [
  {
   "cell_type": "code",
   "execution_count": 1,
   "id": "5d7ece0d",
   "metadata": {},
   "outputs": [],
   "source": [
    "import pandas as pd\n",
    "import matplotlib.pyplot as plt\n",
    "import seaborn as sns\n",
    "import numpy as np\n",
    "from sklearn.metrics import mean_absolute_error, mean_squared_error\n",
    "from sklearn.metrics import mean_squared_error as mse\n",
    "df = pd.read_csv(\"Transformed_Housing_Data2.csv\")\n",
    "data = df.copy()"
   ]
  },
  {
   "cell_type": "code",
   "execution_count": 2,
   "id": "103f8bab",
   "metadata": {},
   "outputs": [
    {
     "data": {
      "text/plain": [
       "(np.float64(1129575.0), np.float64(75000.0))"
      ]
     },
     "execution_count": 2,
     "metadata": {},
     "output_type": "execute_result"
    }
   ],
   "source": [
    "data[\"Sale_Price\"].max(),data[\"Sale_Price\"].min()"
   ]
  },
  {
   "cell_type": "markdown",
   "id": "11451212",
   "metadata": {},
   "source": [
    "# spliting the independent and dependent varible"
   ]
  },
  {
   "cell_type": "code",
   "execution_count": 3,
   "id": "147bdd45",
   "metadata": {},
   "outputs": [
    {
     "data": {
      "text/html": [
       "<div>\n",
       "<style scoped>\n",
       "    .dataframe tbody tr th:only-of-type {\n",
       "        vertical-align: middle;\n",
       "    }\n",
       "\n",
       "    .dataframe tbody tr th {\n",
       "        vertical-align: top;\n",
       "    }\n",
       "\n",
       "    .dataframe thead th {\n",
       "        text-align: right;\n",
       "    }\n",
       "</style>\n",
       "<table border=\"1\" class=\"dataframe\">\n",
       "  <thead>\n",
       "    <tr style=\"text-align: right;\">\n",
       "      <th></th>\n",
       "      <th>No of Bedrooms</th>\n",
       "      <th>No of Bathrooms</th>\n",
       "      <th>Flat Area (in Sqft)</th>\n",
       "      <th>Lot Area (in Sqft)</th>\n",
       "      <th>No of Floors</th>\n",
       "      <th>No of Times Visited</th>\n",
       "      <th>Overall Grade</th>\n",
       "      <th>Area of the House from Basement (in Sqft)</th>\n",
       "      <th>Basement Area (in Sqft)</th>\n",
       "      <th>Age of House (in Years)</th>\n",
       "      <th>...</th>\n",
       "      <th>Waterfront_View_Yes</th>\n",
       "      <th>Zipcode_Group_Zipcode_Group_1</th>\n",
       "      <th>Zipcode_Group_Zipcode_Group_2</th>\n",
       "      <th>Zipcode_Group_Zipcode_Group_3</th>\n",
       "      <th>Zipcode_Group_Zipcode_Group_4</th>\n",
       "      <th>Zipcode_Group_Zipcode_Group_5</th>\n",
       "      <th>Zipcode_Group_Zipcode_Group_6</th>\n",
       "      <th>Zipcode_Group_Zipcode_Group_7</th>\n",
       "      <th>Zipcode_Group_Zipcode_Group_8</th>\n",
       "      <th>Zipcode_Group_Zipcode_Group_9</th>\n",
       "    </tr>\n",
       "  </thead>\n",
       "  <tbody>\n",
       "    <tr>\n",
       "      <th>0</th>\n",
       "      <td>3</td>\n",
       "      <td>1.00</td>\n",
       "      <td>1180.0</td>\n",
       "      <td>5650.0</td>\n",
       "      <td>1.0</td>\n",
       "      <td>0</td>\n",
       "      <td>7</td>\n",
       "      <td>1180.0</td>\n",
       "      <td>0</td>\n",
       "      <td>63</td>\n",
       "      <td>...</td>\n",
       "      <td>0</td>\n",
       "      <td>0</td>\n",
       "      <td>0</td>\n",
       "      <td>0</td>\n",
       "      <td>0</td>\n",
       "      <td>0</td>\n",
       "      <td>0</td>\n",
       "      <td>0</td>\n",
       "      <td>0</td>\n",
       "      <td>0</td>\n",
       "    </tr>\n",
       "    <tr>\n",
       "      <th>1</th>\n",
       "      <td>3</td>\n",
       "      <td>2.25</td>\n",
       "      <td>2570.0</td>\n",
       "      <td>7242.0</td>\n",
       "      <td>2.0</td>\n",
       "      <td>0</td>\n",
       "      <td>7</td>\n",
       "      <td>2170.0</td>\n",
       "      <td>400</td>\n",
       "      <td>67</td>\n",
       "      <td>...</td>\n",
       "      <td>0</td>\n",
       "      <td>0</td>\n",
       "      <td>1</td>\n",
       "      <td>0</td>\n",
       "      <td>0</td>\n",
       "      <td>0</td>\n",
       "      <td>0</td>\n",
       "      <td>0</td>\n",
       "      <td>0</td>\n",
       "      <td>0</td>\n",
       "    </tr>\n",
       "    <tr>\n",
       "      <th>2</th>\n",
       "      <td>2</td>\n",
       "      <td>1.00</td>\n",
       "      <td>770.0</td>\n",
       "      <td>10000.0</td>\n",
       "      <td>1.0</td>\n",
       "      <td>0</td>\n",
       "      <td>6</td>\n",
       "      <td>770.0</td>\n",
       "      <td>0</td>\n",
       "      <td>85</td>\n",
       "      <td>...</td>\n",
       "      <td>0</td>\n",
       "      <td>0</td>\n",
       "      <td>1</td>\n",
       "      <td>0</td>\n",
       "      <td>0</td>\n",
       "      <td>0</td>\n",
       "      <td>0</td>\n",
       "      <td>0</td>\n",
       "      <td>0</td>\n",
       "      <td>0</td>\n",
       "    </tr>\n",
       "    <tr>\n",
       "      <th>3</th>\n",
       "      <td>4</td>\n",
       "      <td>3.00</td>\n",
       "      <td>1960.0</td>\n",
       "      <td>5000.0</td>\n",
       "      <td>1.0</td>\n",
       "      <td>0</td>\n",
       "      <td>7</td>\n",
       "      <td>1050.0</td>\n",
       "      <td>910</td>\n",
       "      <td>53</td>\n",
       "      <td>...</td>\n",
       "      <td>0</td>\n",
       "      <td>0</td>\n",
       "      <td>0</td>\n",
       "      <td>1</td>\n",
       "      <td>0</td>\n",
       "      <td>0</td>\n",
       "      <td>0</td>\n",
       "      <td>0</td>\n",
       "      <td>0</td>\n",
       "      <td>0</td>\n",
       "    </tr>\n",
       "    <tr>\n",
       "      <th>4</th>\n",
       "      <td>3</td>\n",
       "      <td>2.00</td>\n",
       "      <td>1680.0</td>\n",
       "      <td>8080.0</td>\n",
       "      <td>1.0</td>\n",
       "      <td>0</td>\n",
       "      <td>8</td>\n",
       "      <td>1680.0</td>\n",
       "      <td>0</td>\n",
       "      <td>31</td>\n",
       "      <td>...</td>\n",
       "      <td>0</td>\n",
       "      <td>0</td>\n",
       "      <td>0</td>\n",
       "      <td>0</td>\n",
       "      <td>1</td>\n",
       "      <td>0</td>\n",
       "      <td>0</td>\n",
       "      <td>0</td>\n",
       "      <td>0</td>\n",
       "      <td>0</td>\n",
       "    </tr>\n",
       "  </tbody>\n",
       "</table>\n",
       "<p>5 rows × 30 columns</p>\n",
       "</div>"
      ],
      "text/plain": [
       "   No of Bedrooms  No of Bathrooms  Flat Area (in Sqft)  Lot Area (in Sqft)  \\\n",
       "0               3             1.00               1180.0              5650.0   \n",
       "1               3             2.25               2570.0              7242.0   \n",
       "2               2             1.00                770.0             10000.0   \n",
       "3               4             3.00               1960.0              5000.0   \n",
       "4               3             2.00               1680.0              8080.0   \n",
       "\n",
       "   No of Floors  No of Times Visited  Overall Grade  \\\n",
       "0           1.0                    0              7   \n",
       "1           2.0                    0              7   \n",
       "2           1.0                    0              6   \n",
       "3           1.0                    0              7   \n",
       "4           1.0                    0              8   \n",
       "\n",
       "   Area of the House from Basement (in Sqft)  Basement Area (in Sqft)  \\\n",
       "0                                     1180.0                        0   \n",
       "1                                     2170.0                      400   \n",
       "2                                      770.0                        0   \n",
       "3                                     1050.0                      910   \n",
       "4                                     1680.0                        0   \n",
       "\n",
       "   Age of House (in Years)  ...  Waterfront_View_Yes  \\\n",
       "0                       63  ...                    0   \n",
       "1                       67  ...                    0   \n",
       "2                       85  ...                    0   \n",
       "3                       53  ...                    0   \n",
       "4                       31  ...                    0   \n",
       "\n",
       "   Zipcode_Group_Zipcode_Group_1  Zipcode_Group_Zipcode_Group_2  \\\n",
       "0                              0                              0   \n",
       "1                              0                              1   \n",
       "2                              0                              1   \n",
       "3                              0                              0   \n",
       "4                              0                              0   \n",
       "\n",
       "   Zipcode_Group_Zipcode_Group_3  Zipcode_Group_Zipcode_Group_4  \\\n",
       "0                              0                              0   \n",
       "1                              0                              0   \n",
       "2                              0                              0   \n",
       "3                              1                              0   \n",
       "4                              0                              1   \n",
       "\n",
       "   Zipcode_Group_Zipcode_Group_5  Zipcode_Group_Zipcode_Group_6  \\\n",
       "0                              0                              0   \n",
       "1                              0                              0   \n",
       "2                              0                              0   \n",
       "3                              0                              0   \n",
       "4                              0                              0   \n",
       "\n",
       "   Zipcode_Group_Zipcode_Group_7  Zipcode_Group_Zipcode_Group_8  \\\n",
       "0                              0                              0   \n",
       "1                              0                              0   \n",
       "2                              0                              0   \n",
       "3                              0                              0   \n",
       "4                              0                              0   \n",
       "\n",
       "   Zipcode_Group_Zipcode_Group_9  \n",
       "0                              0  \n",
       "1                              0  \n",
       "2                              0  \n",
       "3                              0  \n",
       "4                              0  \n",
       "\n",
       "[5 rows x 30 columns]"
      ]
     },
     "execution_count": 3,
     "metadata": {},
     "output_type": "execute_result"
    }
   ],
   "source": [
    "y = data.iloc[:,0]\n",
    "x = data.iloc[:,1:31]\n",
    "\n",
    "x.head(5)"
   ]
  },
  {
   "cell_type": "code",
   "execution_count": null,
   "id": "60d4a5b9-1c77-4325-a597-887c24e20dc6",
   "metadata": {},
   "outputs": [],
   "source": []
  },
  {
   "cell_type": "markdown",
   "id": "b9948783",
   "metadata": {},
   "source": [
    "# test and train data"
   ]
  },
  {
   "cell_type": "code",
   "execution_count": 4,
   "id": "3d6574f7",
   "metadata": {},
   "outputs": [],
   "source": [
    "from sklearn.model_selection import train_test_split"
   ]
  },
  {
   "cell_type": "code",
   "execution_count": 5,
   "id": "71ca580a",
   "metadata": {},
   "outputs": [],
   "source": [
    "x_train, x_test, y_train, y_test = train_test_split(x, y, test_size = 0.3)  #x = indenpendent y = dependent "
   ]
  },
  {
   "cell_type": "code",
   "execution_count": 6,
   "id": "b30e4ee4",
   "metadata": {},
   "outputs": [
    {
     "data": {
      "text/plain": [
       "(15126, 30)"
      ]
     },
     "execution_count": 6,
     "metadata": {},
     "output_type": "execute_result"
    }
   ],
   "source": [
    "x_train.shape"
   ]
  },
  {
   "cell_type": "code",
   "execution_count": 7,
   "id": "5b96d9fe",
   "metadata": {},
   "outputs": [
    {
     "data": {
      "text/plain": [
       "(6483, 30)"
      ]
     },
     "execution_count": 7,
     "metadata": {},
     "output_type": "execute_result"
    }
   ],
   "source": [
    "x_test.shape"
   ]
  },
  {
   "cell_type": "code",
   "execution_count": 8,
   "id": "1881c352",
   "metadata": {},
   "outputs": [
    {
     "data": {
      "text/plain": [
       "(15126,)"
      ]
     },
     "execution_count": 8,
     "metadata": {},
     "output_type": "execute_result"
    }
   ],
   "source": [
    "y_train.shape"
   ]
  },
  {
   "cell_type": "code",
   "execution_count": 9,
   "id": "0c6cdf62",
   "metadata": {},
   "outputs": [
    {
     "data": {
      "text/plain": [
       "(6483,)"
      ]
     },
     "execution_count": 9,
     "metadata": {},
     "output_type": "execute_result"
    }
   ],
   "source": [
    "y_test.shape"
   ]
  },
  {
   "cell_type": "markdown",
   "id": "1a069b35",
   "metadata": {},
   "source": [
    "# Standarized"
   ]
  },
  {
   "cell_type": "code",
   "execution_count": 10,
   "id": "e353bbc0",
   "metadata": {},
   "outputs": [],
   "source": [
    "from sklearn import preprocessing\n",
    "scale = preprocessing.StandardScaler()"
   ]
  },
  {
   "cell_type": "code",
   "execution_count": 11,
   "id": "5f4c81a2",
   "metadata": {},
   "outputs": [],
   "source": [
    "x_train = scale.fit_transform(x_train)"
   ]
  },
  {
   "cell_type": "code",
   "execution_count": 12,
   "id": "941b0ee0",
   "metadata": {
    "scrolled": true
   },
   "outputs": [
    {
     "data": {
      "text/plain": [
       "array([[ 0.67037655,  0.49568996,  0.53216539, ..., -0.11157867,\n",
       "        -0.17146357, -0.04604398],\n",
       "       [-0.39970742,  1.14699349,  1.46110449, ..., -0.11157867,\n",
       "        -0.17146357, -0.04604398],\n",
       "       [-0.39970742,  0.82134172,  0.510308  , ..., -0.11157867,\n",
       "        -0.17146357, -0.04604398],\n",
       "       ...,\n",
       "       [-1.46979138, -0.80691711, -0.46234587, ..., -0.11157867,\n",
       "        -0.17146357, -0.04604398],\n",
       "       [ 0.67037655,  0.49568996,  1.01302798, ..., -0.11157867,\n",
       "        -0.17146357, -0.04604398],\n",
       "       [ 2.81054447,  1.14699349,  0.95838451, ..., -0.11157867,\n",
       "        -0.17146357, -0.04604398]])"
      ]
     },
     "execution_count": 12,
     "metadata": {},
     "output_type": "execute_result"
    }
   ],
   "source": [
    "x_train"
   ]
  },
  {
   "cell_type": "code",
   "execution_count": 13,
   "id": "cd551395",
   "metadata": {},
   "outputs": [],
   "source": [
    "x_test = scale.fit_transform(x_test)"
   ]
  },
  {
   "cell_type": "code",
   "execution_count": 14,
   "id": "da1e6acf",
   "metadata": {},
   "outputs": [
    {
     "data": {
      "text/plain": [
       "array([[-0.39644466,  0.51112674, -0.78022039, ..., -0.11388042,\n",
       "        -0.16260623, -0.05276573],\n",
       "       [-0.39644466,  0.51112674,  0.26735514, ..., -0.11388042,\n",
       "        -0.16260623, -0.05276573],\n",
       "       [-1.48456945, -1.42308943, -1.26620903, ..., -0.11388042,\n",
       "        -0.16260623, -0.05276573],\n",
       "       ...,\n",
       "       [ 1.77980491,  0.8334961 , -0.11063603, ..., -0.11388042,\n",
       "        -0.16260623, -0.05276573],\n",
       "       [-1.48456945, -1.42308943, -0.99621534, ..., -0.11388042,\n",
       "        -0.16260623, -0.05276573],\n",
       "       [ 0.69168012,  1.47823483,  2.14651125, ..., -0.11388042,\n",
       "        -0.16260623, -0.05276573]])"
      ]
     },
     "execution_count": 14,
     "metadata": {},
     "output_type": "execute_result"
    }
   ],
   "source": [
    "x_test"
   ]
  },
  {
   "cell_type": "markdown",
   "id": "ec293127",
   "metadata": {},
   "source": [
    "# first predicting model"
   ]
  },
  {
   "cell_type": "code",
   "execution_count": 15,
   "id": "b8b44480",
   "metadata": {},
   "outputs": [],
   "source": [
    "data[\"mean_sale\"] = data[\"Sale_Price\"].mean()\n"
   ]
  },
  {
   "cell_type": "code",
   "execution_count": 16,
   "id": "fea8b241",
   "metadata": {},
   "outputs": [
    {
     "data": {
      "text/plain": [
       "<function matplotlib.pyplot.show(close=None, block=None)>"
      ]
     },
     "execution_count": 16,
     "metadata": {},
     "output_type": "execute_result"
    },
    {
     "data": {
      "image/png": "[encoded data removed]",
      "text/plain": [
       "<Figure size 640x480 with 1 Axes>"
      ]
     },
     "metadata": {},
     "output_type": "display_data"
    }
   ],
   "source": [
    "k = range(len(data))\n",
    "plt.scatter(k,data[\"Sale_Price\"].sort_values(), color = \"red\",label = \"sales price\")\n",
    "plt.plot(k,data[\"mean_sale\"].sort_values(),label = \"mean price\")\n",
    "plt.xlabel(\"sales price\")\n",
    "plt.ylabel(\"mean price\")\n",
    "plt.legend()\n",
    "plt.show"
   ]
  },
  {
   "cell_type": "code",
   "execution_count": 17,
   "id": "62aab36b",
   "metadata": {},
   "outputs": [
    {
     "name": "stdout",
     "output_type": "stream",
     "text": [
      "Overall Grade        1          2              3              4   \\\n",
      "Sale_Price     142000.0  1129575.0  205666.666667  214381.034483   \n",
      "\n",
      "Overall Grade             5             6              7              8   \\\n",
      "Sale_Price     248523.971074  301882.01472  402239.619779  537584.082097   \n",
      "\n",
      "Overall Grade             9              10  \n",
      "Sale_Price     736936.769025  960408.078866  \n"
     ]
    },
    {
     "name": "stderr",
     "output_type": "stream",
     "text": [
      "C:\\Users\\venka\\AppData\\Local\\Temp\\ipykernel_10884\\2702652684.py:1: FutureWarning: The provided callable <function mean at 0x0000027BDB5E8C20> is currently using DataFrameGroupBy.mean. In a future version of pandas, the provided callable will be used directly. To keep current behavior pass the string \"mean\" instead.\n",
      "  grade_mean  = data.pivot_table(values = \"Sale_Price\", columns = \"Overall Grade\",aggfunc = np.mean)\n"
     ]
    }
   ],
   "source": [
    "grade_mean  = data.pivot_table(values = \"Sale_Price\", columns = \"Overall Grade\",aggfunc = np.mean)\n",
    "print(grade_mean)\n"
   ]
  },
  {
   "cell_type": "markdown",
   "id": "48fda7f2-f594-4b4a-a251-e1d970c63fff",
   "metadata": {},
   "source": [
    "data[\"grade_mean\"] = 0\n",
    "for i in grade_mean.columns:\n",
    "    data[\"grade_mean\"][data[\"Overall Grade\"] == i] = grade_mean[i][0]\n",
    "data[\"grade_mean\"]\n"
   ]
  },
  {
   "cell_type": "code",
   "execution_count": 18,
   "id": "c1c6d01c-da6a-4682-9135-8ffdaacc872e",
   "metadata": {},
   "outputs": [
    {
     "data": {
      "text/html": [
       "<div>\n",
       "<style scoped>\n",
       "    .dataframe tbody tr th:only-of-type {\n",
       "        vertical-align: middle;\n",
       "    }\n",
       "\n",
       "    .dataframe tbody tr th {\n",
       "        vertical-align: top;\n",
       "    }\n",
       "\n",
       "    .dataframe thead th {\n",
       "        text-align: right;\n",
       "    }\n",
       "</style>\n",
       "<table border=\"1\" class=\"dataframe\">\n",
       "  <thead>\n",
       "    <tr style=\"text-align: right;\">\n",
       "      <th></th>\n",
       "      <th>Sale_price</th>\n",
       "      <th>Flat_Area</th>\n",
       "      <th>mean</th>\n",
       "    </tr>\n",
       "  </thead>\n",
       "  <tbody>\n",
       "    <tr>\n",
       "      <th>0</th>\n",
       "      <td>221900.0</td>\n",
       "      <td>1180.0</td>\n",
       "      <td>466003.333333</td>\n",
       "    </tr>\n",
       "    <tr>\n",
       "      <th>1</th>\n",
       "      <td>538000.0</td>\n",
       "      <td>2570.0</td>\n",
       "      <td>466003.333333</td>\n",
       "    </tr>\n",
       "    <tr>\n",
       "      <th>2</th>\n",
       "      <td>180000.0</td>\n",
       "      <td>770.0</td>\n",
       "      <td>466003.333333</td>\n",
       "    </tr>\n",
       "    <tr>\n",
       "      <th>3</th>\n",
       "      <td>604000.0</td>\n",
       "      <td>1960.0</td>\n",
       "      <td>466003.333333</td>\n",
       "    </tr>\n",
       "    <tr>\n",
       "      <th>4</th>\n",
       "      <td>510000.0</td>\n",
       "      <td>1680.0</td>\n",
       "      <td>466003.333333</td>\n",
       "    </tr>\n",
       "    <tr>\n",
       "      <th>5</th>\n",
       "      <td>1129575.0</td>\n",
       "      <td>5420.0</td>\n",
       "      <td>466003.333333</td>\n",
       "    </tr>\n",
       "    <tr>\n",
       "      <th>6</th>\n",
       "      <td>257500.0</td>\n",
       "      <td>1715.0</td>\n",
       "      <td>466003.333333</td>\n",
       "    </tr>\n",
       "    <tr>\n",
       "      <th>7</th>\n",
       "      <td>291850.0</td>\n",
       "      <td>1060.0</td>\n",
       "      <td>466003.333333</td>\n",
       "    </tr>\n",
       "    <tr>\n",
       "      <th>8</th>\n",
       "      <td>229500.0</td>\n",
       "      <td>1780.0</td>\n",
       "      <td>466003.333333</td>\n",
       "    </tr>\n",
       "    <tr>\n",
       "      <th>9</th>\n",
       "      <td>323000.0</td>\n",
       "      <td>1890.0</td>\n",
       "      <td>466003.333333</td>\n",
       "    </tr>\n",
       "    <tr>\n",
       "      <th>10</th>\n",
       "      <td>662500.0</td>\n",
       "      <td>3560.0</td>\n",
       "      <td>466003.333333</td>\n",
       "    </tr>\n",
       "    <tr>\n",
       "      <th>11</th>\n",
       "      <td>468000.0</td>\n",
       "      <td>1160.0</td>\n",
       "      <td>466003.333333</td>\n",
       "    </tr>\n",
       "    <tr>\n",
       "      <th>12</th>\n",
       "      <td>310000.0</td>\n",
       "      <td>1430.0</td>\n",
       "      <td>466003.333333</td>\n",
       "    </tr>\n",
       "    <tr>\n",
       "      <th>13</th>\n",
       "      <td>400000.0</td>\n",
       "      <td>1370.0</td>\n",
       "      <td>466003.333333</td>\n",
       "    </tr>\n",
       "    <tr>\n",
       "      <th>14</th>\n",
       "      <td>530000.0</td>\n",
       "      <td>1810.0</td>\n",
       "      <td>466003.333333</td>\n",
       "    </tr>\n",
       "    <tr>\n",
       "      <th>15</th>\n",
       "      <td>650000.0</td>\n",
       "      <td>2950.0</td>\n",
       "      <td>466003.333333</td>\n",
       "    </tr>\n",
       "    <tr>\n",
       "      <th>16</th>\n",
       "      <td>395000.0</td>\n",
       "      <td>1890.0</td>\n",
       "      <td>466003.333333</td>\n",
       "    </tr>\n",
       "    <tr>\n",
       "      <th>17</th>\n",
       "      <td>485000.0</td>\n",
       "      <td>1600.0</td>\n",
       "      <td>466003.333333</td>\n",
       "    </tr>\n",
       "    <tr>\n",
       "      <th>18</th>\n",
       "      <td>189000.0</td>\n",
       "      <td>1200.0</td>\n",
       "      <td>466003.333333</td>\n",
       "    </tr>\n",
       "    <tr>\n",
       "      <th>19</th>\n",
       "      <td>230000.0</td>\n",
       "      <td>1250.0</td>\n",
       "      <td>466003.333333</td>\n",
       "    </tr>\n",
       "    <tr>\n",
       "      <th>20</th>\n",
       "      <td>385000.0</td>\n",
       "      <td>1620.0</td>\n",
       "      <td>466003.333333</td>\n",
       "    </tr>\n",
       "    <tr>\n",
       "      <th>21</th>\n",
       "      <td>1129575.0</td>\n",
       "      <td>3050.0</td>\n",
       "      <td>466003.333333</td>\n",
       "    </tr>\n",
       "    <tr>\n",
       "      <th>22</th>\n",
       "      <td>285000.0</td>\n",
       "      <td>2270.0</td>\n",
       "      <td>466003.333333</td>\n",
       "    </tr>\n",
       "    <tr>\n",
       "      <th>23</th>\n",
       "      <td>252700.0</td>\n",
       "      <td>1070.0</td>\n",
       "      <td>466003.333333</td>\n",
       "    </tr>\n",
       "    <tr>\n",
       "      <th>24</th>\n",
       "      <td>329000.0</td>\n",
       "      <td>2450.0</td>\n",
       "      <td>466003.333333</td>\n",
       "    </tr>\n",
       "    <tr>\n",
       "      <th>25</th>\n",
       "      <td>233000.0</td>\n",
       "      <td>1710.0</td>\n",
       "      <td>466003.333333</td>\n",
       "    </tr>\n",
       "    <tr>\n",
       "      <th>26</th>\n",
       "      <td>937000.0</td>\n",
       "      <td>2450.0</td>\n",
       "      <td>466003.333333</td>\n",
       "    </tr>\n",
       "    <tr>\n",
       "      <th>27</th>\n",
       "      <td>667000.0</td>\n",
       "      <td>1400.0</td>\n",
       "      <td>466003.333333</td>\n",
       "    </tr>\n",
       "    <tr>\n",
       "      <th>28</th>\n",
       "      <td>438000.0</td>\n",
       "      <td>1520.0</td>\n",
       "      <td>466003.333333</td>\n",
       "    </tr>\n",
       "    <tr>\n",
       "      <th>29</th>\n",
       "      <td>719000.0</td>\n",
       "      <td>2570.0</td>\n",
       "      <td>466003.333333</td>\n",
       "    </tr>\n",
       "  </tbody>\n",
       "</table>\n",
       "</div>"
      ],
      "text/plain": [
       "    Sale_price  Flat_Area           mean\n",
       "0     221900.0     1180.0  466003.333333\n",
       "1     538000.0     2570.0  466003.333333\n",
       "2     180000.0      770.0  466003.333333\n",
       "3     604000.0     1960.0  466003.333333\n",
       "4     510000.0     1680.0  466003.333333\n",
       "5    1129575.0     5420.0  466003.333333\n",
       "6     257500.0     1715.0  466003.333333\n",
       "7     291850.0     1060.0  466003.333333\n",
       "8     229500.0     1780.0  466003.333333\n",
       "9     323000.0     1890.0  466003.333333\n",
       "10    662500.0     3560.0  466003.333333\n",
       "11    468000.0     1160.0  466003.333333\n",
       "12    310000.0     1430.0  466003.333333\n",
       "13    400000.0     1370.0  466003.333333\n",
       "14    530000.0     1810.0  466003.333333\n",
       "15    650000.0     2950.0  466003.333333\n",
       "16    395000.0     1890.0  466003.333333\n",
       "17    485000.0     1600.0  466003.333333\n",
       "18    189000.0     1200.0  466003.333333\n",
       "19    230000.0     1250.0  466003.333333\n",
       "20    385000.0     1620.0  466003.333333\n",
       "21   1129575.0     3050.0  466003.333333\n",
       "22    285000.0     2270.0  466003.333333\n",
       "23    252700.0     1070.0  466003.333333\n",
       "24    329000.0     2450.0  466003.333333\n",
       "25    233000.0     1710.0  466003.333333\n",
       "26    937000.0     2450.0  466003.333333\n",
       "27    667000.0     1400.0  466003.333333\n",
       "28    438000.0     1520.0  466003.333333\n",
       "29    719000.0     2570.0  466003.333333"
      ]
     },
     "execution_count": 18,
     "metadata": {},
     "output_type": "execute_result"
    }
   ],
   "source": [
    "#Linear regresssion\n",
    "Sale_price = data[\"Sale_Price\"].head(30)\n",
    "Flat_Area = data[\"Flat Area (in Sqft)\"].head(30)\n",
    "sample_data = pd.DataFrame({\"Sale_price\":Sale_price,\"Flat_Area\":Flat_Area})\n",
    "sample_data[\"mean\"] = sample_data.Sale_price.mean()\n",
    "sample_data"
   ]
  },
  {
   "cell_type": "code",
   "execution_count": 19,
   "id": "cd3ae39a",
   "metadata": {
    "scrolled": true
   },
   "outputs": [
    {
     "data": {
      "text/plain": [
       "<matplotlib.legend.Legend at 0x27bf7bebe10>"
      ]
     },
     "execution_count": 19,
     "metadata": {},
     "output_type": "execute_result"
    },
    {
     "data": {
      "image/png": "[encoded data removed]",
      "text/plain": [
       "<Figure size 640x480 with 1 Axes>"
      ]
     },
     "metadata": {},
     "output_type": "display_data"
    }
   ],
   "source": [
    "plt.figure(dpi = 100)\n",
    "plt.scatter(sample_data.Flat_Area,sample_data.Sale_price,color = \"red\",label = \"saleprice,flat\")\n",
    "plt.plot(sample_data.Flat_Area,sample_data[\"mean\"],color = \"yellow\",label = \"mean sale price\")\n",
    "plt.xlabel(\"Flat\")\n",
    "plt.ylabel(\"sale_price\")\n",
    "plt.title(\"sale,flat\")\n",
    "plt.legend()\n"
   ]
  },
  {
   "cell_type": "code",
   "execution_count": 20,
   "id": "0d0bc536",
   "metadata": {},
   "outputs": [
    {
     "data": {
      "text/plain": [
       "<matplotlib.legend.Legend at 0x27bf82f98d0>"
      ]
     },
     "execution_count": 20,
     "metadata": {},
     "output_type": "execute_result"
    },
    {
     "data": {
      "image/png": "[encoded data removed]",
      "text/plain": [
       "<Figure size 640x480 with 1 Axes>"
      ]
     },
     "metadata": {},
     "output_type": "display_data"
    }
   ],
   "source": [
    "# y = mx+c m = slope c = baised (y axis moving point)\n",
    "m = 300\n",
    "c = 19199\n",
    "line = []\n",
    "for i in range (len(sample_data)):\n",
    "    line.append(sample_data.Flat_Area[i] * m + c)\n",
    "plt.scatter(sample_data.Flat_Area,sample_data.Sale_price, label = \"scatterpoints\")\n",
    "plt.plot(sample_data.Flat_Area,line,label = \"line\",color = \"red\")\n",
    "MSE = mse(sample_data.Sale_price,line)\n",
    "plt.title(\"slope \"+str(m)+ \" mean square error \" + str(MSE))\n",
    "plt.legend()"
   ]
  },
  {
   "cell_type": "code",
   "execution_count": 21,
   "id": "740aef85",
   "metadata": {},
   "outputs": [],
   "source": [
    "\n",
    "def slope_error(slope, intercept, sample_data):\n",
    "    line = []\n",
    "    for i in range(len(sample_data.Flat_Area)):\n",
    "        tmp = sample_data.Flat_Area[i]* slope +intercept\n",
    "        line.append(tmp)\n",
    "    MSE = mse(sample_data.Sale_price,line)\n",
    "    return MSE\n"
   ]
  },
  {
   "cell_type": "code",
   "execution_count": 22,
   "id": "e0c7c9a0-bb93-4e03-b545-1fbdf284817b",
   "metadata": {},
   "outputs": [
    {
     "data": {
      "text/html": [
       "<div>\n",
       "<style scoped>\n",
       "    .dataframe tbody tr th:only-of-type {\n",
       "        vertical-align: middle;\n",
       "    }\n",
       "\n",
       "    .dataframe tbody tr th {\n",
       "        vertical-align: top;\n",
       "    }\n",
       "\n",
       "    .dataframe thead th {\n",
       "        text-align: right;\n",
       "    }\n",
       "</style>\n",
       "<table border=\"1\" class=\"dataframe\">\n",
       "  <thead>\n",
       "    <tr style=\"text-align: right;\">\n",
       "      <th></th>\n",
       "      <th>slope</th>\n",
       "      <th>Cost</th>\n",
       "    </tr>\n",
       "  </thead>\n",
       "  <tbody>\n",
       "    <tr>\n",
       "      <th>0</th>\n",
       "      <td>0.0</td>\n",
       "      <td>2.813721e+11</td>\n",
       "    </tr>\n",
       "    <tr>\n",
       "      <th>1</th>\n",
       "      <td>0.1</td>\n",
       "      <td>2.811558e+11</td>\n",
       "    </tr>\n",
       "    <tr>\n",
       "      <th>2</th>\n",
       "      <td>0.2</td>\n",
       "      <td>2.809395e+11</td>\n",
       "    </tr>\n",
       "    <tr>\n",
       "      <th>3</th>\n",
       "      <td>0.3</td>\n",
       "      <td>2.807234e+11</td>\n",
       "    </tr>\n",
       "    <tr>\n",
       "      <th>4</th>\n",
       "      <td>0.4</td>\n",
       "      <td>2.805073e+11</td>\n",
       "    </tr>\n",
       "  </tbody>\n",
       "</table>\n",
       "</div>"
      ],
      "text/plain": [
       "   slope          Cost\n",
       "0    0.0  2.813721e+11\n",
       "1    0.1  2.811558e+11\n",
       "2    0.2  2.809395e+11\n",
       "3    0.3  2.807234e+11\n",
       "4    0.4  2.805073e+11"
      ]
     },
     "execution_count": 22,
     "metadata": {},
     "output_type": "execute_result"
    }
   ],
   "source": [
    "#optional =  beacuse we can able to find the error min value in the grape  \n",
    "Cost = []\n",
    "slope = [i/10 for i in range (0,5000)]\n",
    "for i in slope:\n",
    "    cost = slope_error(slope = i,intercept = 0,sample_data = sample_data)\n",
    "    Cost.append(cost)\n",
    "\n",
    "cost_table = pd.DataFrame({\n",
    "    \"slope\" : slope,\n",
    "    \"Cost\" : Cost})\n",
    "cost_table.head()\n",
    " "
   ]
  },
  {
   "cell_type": "code",
   "execution_count": 23,
   "id": "8e898bbe-d189-4ab9-8d57-bd254746cfb7",
   "metadata": {},
   "outputs": [
    {
     "data": {
      "text/plain": [
       "<matplotlib.legend.Legend at 0x27bf7bfe550>"
      ]
     },
     "execution_count": 23,
     "metadata": {},
     "output_type": "execute_result"
    },
    {
     "data": {
      "image/png": "[encoded data removed]",
      "text/plain": [
       "<Figure size 640x480 with 1 Axes>"
      ]
     },
     "metadata": {},
     "output_type": "display_data"
    }
   ],
   "source": [
    "#optional =  beacuse we can able to find the error min value in the grape  \n",
    "plt.plot(cost_table.slope,cost_table.Cost,label = \"Cost Functon curve\")\n",
    "plt.xlabel(\"value of slope\")\n",
    "plt.ylabel(\"cost\")\n",
    "plt.legend()"
   ]
  },
  {
   "cell_type": "code",
   "execution_count": 24,
   "id": "c2ee714a-4ae4-4a51-a71f-131dec696b94",
   "metadata": {},
   "outputs": [],
   "source": [
    "def intercept_error(slope, intercept, sample_data):\n",
    "    line = []\n",
    "    for i in range(len(sample_data.Flat_Area)):\n",
    "        tmp = sample_data.Flat_Area[i]* slope +intercept\n",
    "        line.append(tmp)\n",
    "    MSE = mse(sample_data.Sale_price,line)\n",
    "    return MSE\n"
   ]
  },
  {
   "cell_type": "code",
   "execution_count": 25,
   "id": "a79d9282-3fa9-4690-a479-4fbc4cf82dce",
   "metadata": {},
   "outputs": [
    {
     "data": {
      "text/html": [
       "<div>\n",
       "<style scoped>\n",
       "    .dataframe tbody tr th:only-of-type {\n",
       "        vertical-align: middle;\n",
       "    }\n",
       "\n",
       "    .dataframe tbody tr th {\n",
       "        vertical-align: top;\n",
       "    }\n",
       "\n",
       "    .dataframe thead th {\n",
       "        text-align: right;\n",
       "    }\n",
       "</style>\n",
       "<table border=\"1\" class=\"dataframe\">\n",
       "  <thead>\n",
       "    <tr style=\"text-align: right;\">\n",
       "      <th></th>\n",
       "      <th>intercept</th>\n",
       "      <th>Cost</th>\n",
       "    </tr>\n",
       "  </thead>\n",
       "  <tbody>\n",
       "    <tr>\n",
       "      <th>0</th>\n",
       "      <td>5000</td>\n",
       "      <td>2.779911e+10</td>\n",
       "    </tr>\n",
       "    <tr>\n",
       "      <th>1</th>\n",
       "      <td>5001</td>\n",
       "      <td>2.779909e+10</td>\n",
       "    </tr>\n",
       "    <tr>\n",
       "      <th>2</th>\n",
       "      <td>5002</td>\n",
       "      <td>2.779908e+10</td>\n",
       "    </tr>\n",
       "    <tr>\n",
       "      <th>3</th>\n",
       "      <td>5003</td>\n",
       "      <td>2.779907e+10</td>\n",
       "    </tr>\n",
       "    <tr>\n",
       "      <th>4</th>\n",
       "      <td>5004</td>\n",
       "      <td>2.779906e+10</td>\n",
       "    </tr>\n",
       "  </tbody>\n",
       "</table>\n",
       "</div>"
      ],
      "text/plain": [
       "   intercept          Cost\n",
       "0       5000  2.779911e+10\n",
       "1       5001  2.779909e+10\n",
       "2       5002  2.779908e+10\n",
       "3       5003  2.779907e+10\n",
       "4       5004  2.779906e+10"
      ]
     },
     "execution_count": 25,
     "metadata": {},
     "output_type": "execute_result"
    }
   ],
   "source": [
    "intercept = [i for i in range (5000,50000)]\n",
    "Cost = []\n",
    "for i in intercept:\n",
    "    cost = (intercept_error(slope = 234, intercept = i, sample_data = sample_data))\n",
    "    Cost.append(cost)\n",
    "\n",
    "cost_table = pd.DataFrame({\n",
    "    \"intercept\" : intercept,\n",
    "    \"Cost\" : Cost})\n",
    "cost_table.head()"
   ]
  },
  {
   "cell_type": "code",
   "execution_count": 26,
   "id": "2f283e53-708a-462e-a00b-8ef702625333",
   "metadata": {},
   "outputs": [
    {
     "data": {
      "text/plain": [
       "<matplotlib.legend.Legend at 0x27bf8248e50>"
      ]
     },
     "execution_count": 26,
     "metadata": {},
     "output_type": "execute_result"
    },
    {
     "data": {
      "image/png": "[encoded data removed]",
      "text/plain": [
       "<Figure size 640x480 with 1 Axes>"
      ]
     },
     "metadata": {},
     "output_type": "display_data"
    }
   ],
   "source": [
    "plt.plot(cost_table.intercept,cost_table.Cost,label = \"Cost Functon curve\")\n",
    "plt.xlabel(\"value of slope\")\n",
    "plt.ylabel(\"cost\")\n",
    "plt.legend()"
   ]
  },
  {
   "cell_type": "code",
   "execution_count": 27,
   "id": "d2093116-3cf3-43c2-aea5-627c3ec3f2c6",
   "metadata": {},
   "outputs": [],
   "source": [
    "# Gradial alogorithm important "
   ]
  },
  {
   "cell_type": "code",
   "execution_count": 28,
   "id": "8cecb3a8-c58e-448f-935e-85b016c73b73",
   "metadata": {},
   "outputs": [],
   "source": [
    "def param_int(y):\n",
    "    m = 0.1\n",
    "    c = y.mean()\n",
    "    return m,c  "
   ]
  },
  {
   "cell_type": "code",
   "execution_count": 29,
   "id": "b8512897-9095-4c86-b2d5-2fa33eaafbdf",
   "metadata": {},
   "outputs": [],
   "source": [
    "def genarate_pred(m,c,X):\n",
    "    predictions = []\n",
    "    for x in X:\n",
    "        tmp = (m*x)+c\n",
    "        predictions.append(tmp)\n",
    "    return predictions "
   ]
  },
  {
   "cell_type": "code",
   "execution_count": 30,
   "id": "30e89ec6-6007-4782-ba30-8efbc6066156",
   "metadata": {},
   "outputs": [],
   "source": [
    "def compute_cost(predictions,y):\n",
    "    cost = np.sum(((predictions-y)**2)/len(y))\n",
    "    return cost"
   ]
  },
  {
   "cell_type": "code",
   "execution_count": 31,
   "id": "e6f28ea3-843f-4abc-b4db-2999373ee55f",
   "metadata": {},
   "outputs": [],
   "source": [
    "def gradients(predictions, y, X):\n",
    "    n = len(y)\n",
    "    gm = 2/n * np.sum((predictions - y) * X)\n",
    "    gc = 2/n * np.sum((predictions - y))\n",
    "    return gm, gc"
   ]
  },
  {
   "cell_type": "code",
   "execution_count": 32,
   "id": "121b0987-01b3-47bf-8b3c-377613010018",
   "metadata": {},
   "outputs": [],
   "source": [
    "def param_update(m_old, c_old, gm_old, gc_old, alpha):\n",
    "    m_new = m_old - alpha * gm_old\n",
    "    c_new = c_old - alpha * gc_old\n",
    "    return m_new, c_new"
   ]
  },
  {
   "cell_type": "code",
   "execution_count": null,
   "id": "471750cf-adeb-4692-b2ff-f4205cfb9e99",
   "metadata": {},
   "outputs": [],
   "source": [
    "def result(m, c, X, y, cost, predictions, i):\n",
    "    if i < max_iter - 1: # type: ignore\n",
    "        print(\"Gradient descent has converged at iteration{}\".format(i))\n",
    "    else:\n",
    "        print(\"result after\",max_iter,\"iteration is :\") # type: ignore\n",
    "\n",
    "\n",
    "    plt.figure(figsize = (14,7),dpi = 120)\n",
    "    plt.scatter(X,y, color = \"red\", label = \"data points\")\n",
    "    label = \"final regression line: m = {}; c = {}\".format(str(m), str(c))\n",
    "    plt.plot(X, predictions, color = \"green\", label = label)\n",
    "    plt.xlabel(\"flat_area\")\n",
    "    plt.ylabel(\"sale price\")\n",
    "    plt.title(\"final regresssion line\")\n",
    "    plt.legend()"
   ]
  },
  {
   "cell_type": "code",
   "execution_count": 34,
   "id": "778e45d6-b3af-4a34-975f-6652ec019856",
   "metadata": {},
   "outputs": [
    {
     "name": "stdout",
     "output_type": "stream",
     "text": [
      "after Iteration 0 :m =  0.11316346413633305 ;c =  1.1849780416165836e-16 ; cost=  0.85836535863667\n",
      "after Iteration 20 :m =  0.3275595607435688 ;c =  1.240489192847842e-16 ; cost=  0.6182472245590185\n",
      "after Iteration 40 :m =  0.4706921039517346 ;c =  1.3248661427193537e-16 ; cost=  0.5112264752046607\n",
      "after Iteration 60 :m =  0.5662485308150865 ;c =  1.415904430738617e-16 ; cost=  0.46352728398628984\n",
      "after Iteration 80 :m =  0.6300427631414932 ;c =  1.4951003398285442e-16 ; cost=  0.4422677351921283\n",
      "after Iteration 100 :m =  0.6726323011945988 ;c =  1.611303683072644e-16 ; cost=  0.4327923457067555\n",
      "after Iteration 120 :m =  0.7010654163122192 ;c =  1.666074685620818e-16 ; cost=  0.42856916078553225\n",
      "after Iteration 140 :m =  0.7200475906265729 ;c =  1.6660746856208182e-16 ; cost=  0.4266868855601835\n",
      "after Iteration 160 :m =  0.7327202415200801 ;c =  1.669405354694694e-16 ; cost=  0.42584795473189874\n",
      "after Iteration 180 :m =  0.7411806042798547 ;c =  1.6694053546946945e-16 ; cost=  0.42547404292284524\n",
      "after Iteration 200 :m =  0.7468288099022201 ;c =  1.6760666928424454e-16 ; cost=  0.42530739027850817\n",
      "after Iteration 220 :m =  0.7505995970018231 ;c =  1.6605235704976932e-16 ; cost=  0.42523311312760764\n",
      "after Iteration 240 :m =  0.7531170045293095 ;c =  1.6642243139131105e-16 ; cost=  0.4252000077714469\n",
      "after Iteration 260 :m =  0.7547976458628156 ;c =  1.6716258007439448e-16 ; cost=  0.42518525270083307\n",
      "after Iteration 280 :m =  0.7559196554147255 ;c =  1.6686652060116111e-16 ; cost=  0.4251786763599003\n",
      "Gradient descent has converged at iteration300\n"
     ]
    },
    {
     "data": {
      "image/png": "[encoded data removed]",
      "text/plain": [
       "<Figure size 1680x840 with 1 Axes>"
      ]
     },
     "metadata": {},
     "output_type": "display_data"
    }
   ],
   "source": [
    "from sklearn.preprocessing import StandardScaler\n",
    "scaler = StandardScaler()\n",
    "sale_price = scaler.fit_transform(sample_data[\"Sale_price\"].values.reshape(-1,1))\n",
    "flat_area = scaler.fit_transform(sample_data[\"Flat_Area\"].values.reshape(-1,1))\n",
    "\n",
    "max_iter = 1000\n",
    "cost_old = 0\n",
    "alpha = 0.01\n",
    "\n",
    "m, c = param_int(sale_price)\n",
    "\n",
    "for i in range(0, max_iter):\n",
    "    predictions = genarate_pred(m, c, flat_area)\n",
    "\n",
    "    cost_new = compute_cost(predictions, sale_price)\n",
    "\n",
    "    if abs(cost_new - cost_old) < 10 **(-7):\n",
    "        break\n",
    "    gm, gc = gradients(predictions, sale_price, flat_area)\n",
    "\n",
    "    m, c = param_update(m, c, gm, gc, alpha)\n",
    "\n",
    "    if i % 20 == 0:\n",
    "        print(\"after Iteration\", i, \":m = \", m, \";c = \", c,\"; cost= \", cost_new)\n",
    "\n",
    "    cost_old = cost_new\n",
    "\n",
    "result(m, c, flat_area, sale_price, cost_new, predictions, i)"
   ]
  },
  {
   "cell_type": "markdown",
   "id": "cc081d96-0439-4c12-8014-bd1d260f037a",
   "metadata": {},
   "source": [
    "# implementation of the linear regression model"
   ]
  },
  {
   "cell_type": "code",
   "execution_count": 35,
   "id": "12969eb9-545d-458f-898d-e6ea40073d63",
   "metadata": {},
   "outputs": [],
   "source": [
    "import pandas as pd\n",
    "import matplotlib.pyplot as plt\n",
    "plt.style.use(\"dark_background\")\n",
    "import warnings\n",
    "warnings.filterwarnings(action = \"ignore\")\n",
    "import numpy as np\n",
    "from sklearn.preprocessing import StandardScaler\n",
    "from statsmodels.stats.outliers_influence import variance_inflation_factor as vif_test\n",
    "df = pd.read_csv(\"Transformed_Housing_Data2.csv\")\n",
    "data = df.copy()"
   ]
  },
  {
   "cell_type": "code",
   "execution_count": 36,
   "id": "434da36e-7846-47f7-b2c3-8aeed60d02fc",
   "metadata": {},
   "outputs": [
    {
     "data": {
      "text/html": [
       "<div>\n",
       "<style scoped>\n",
       "    .dataframe tbody tr th:only-of-type {\n",
       "        vertical-align: middle;\n",
       "    }\n",
       "\n",
       "    .dataframe tbody tr th {\n",
       "        vertical-align: top;\n",
       "    }\n",
       "\n",
       "    .dataframe thead th {\n",
       "        text-align: right;\n",
       "    }\n",
       "</style>\n",
       "<table border=\"1\" class=\"dataframe\">\n",
       "  <thead>\n",
       "    <tr style=\"text-align: right;\">\n",
       "      <th></th>\n",
       "      <th>No of Bedrooms</th>\n",
       "      <th>No of Bathrooms</th>\n",
       "      <th>Flat Area (in Sqft)</th>\n",
       "      <th>Lot Area (in Sqft)</th>\n",
       "      <th>No of Floors</th>\n",
       "      <th>No of Times Visited</th>\n",
       "      <th>Overall Grade</th>\n",
       "      <th>Area of the House from Basement (in Sqft)</th>\n",
       "      <th>Basement Area (in Sqft)</th>\n",
       "      <th>Age of House (in Years)</th>\n",
       "      <th>...</th>\n",
       "      <th>Waterfront_View_Yes</th>\n",
       "      <th>Zipcode_Group_Zipcode_Group_1</th>\n",
       "      <th>Zipcode_Group_Zipcode_Group_2</th>\n",
       "      <th>Zipcode_Group_Zipcode_Group_3</th>\n",
       "      <th>Zipcode_Group_Zipcode_Group_4</th>\n",
       "      <th>Zipcode_Group_Zipcode_Group_5</th>\n",
       "      <th>Zipcode_Group_Zipcode_Group_6</th>\n",
       "      <th>Zipcode_Group_Zipcode_Group_7</th>\n",
       "      <th>Zipcode_Group_Zipcode_Group_8</th>\n",
       "      <th>Zipcode_Group_Zipcode_Group_9</th>\n",
       "    </tr>\n",
       "  </thead>\n",
       "  <tbody>\n",
       "    <tr>\n",
       "      <th>0</th>\n",
       "      <td>-0.398724</td>\n",
       "      <td>-1.447526</td>\n",
       "      <td>-0.979905</td>\n",
       "      <td>-0.228291</td>\n",
       "      <td>-0.915389</td>\n",
       "      <td>-0.30579</td>\n",
       "      <td>-0.563993</td>\n",
       "      <td>-0.734722</td>\n",
       "      <td>-0.658697</td>\n",
       "      <td>0.544734</td>\n",
       "      <td>...</td>\n",
       "      <td>-0.087181</td>\n",
       "      <td>-0.350481</td>\n",
       "      <td>-0.482158</td>\n",
       "      <td>-0.419600</td>\n",
       "      <td>-0.479094</td>\n",
       "      <td>-0.214086</td>\n",
       "      <td>-0.287712</td>\n",
       "      <td>-0.112274</td>\n",
       "      <td>-0.16885</td>\n",
       "      <td>-0.048158</td>\n",
       "    </tr>\n",
       "    <tr>\n",
       "      <th>1</th>\n",
       "      <td>-0.398724</td>\n",
       "      <td>0.175684</td>\n",
       "      <td>0.533718</td>\n",
       "      <td>-0.189858</td>\n",
       "      <td>0.936817</td>\n",
       "      <td>-0.30579</td>\n",
       "      <td>-0.563993</td>\n",
       "      <td>0.460990</td>\n",
       "      <td>0.245134</td>\n",
       "      <td>0.680915</td>\n",
       "      <td>...</td>\n",
       "      <td>-0.087181</td>\n",
       "      <td>-0.350481</td>\n",
       "      <td>2.074011</td>\n",
       "      <td>-0.419600</td>\n",
       "      <td>-0.479094</td>\n",
       "      <td>-0.214086</td>\n",
       "      <td>-0.287712</td>\n",
       "      <td>-0.112274</td>\n",
       "      <td>-0.16885</td>\n",
       "      <td>-0.048158</td>\n",
       "    </tr>\n",
       "    <tr>\n",
       "      <th>2</th>\n",
       "      <td>-1.474115</td>\n",
       "      <td>-1.447526</td>\n",
       "      <td>-1.426369</td>\n",
       "      <td>-0.123276</td>\n",
       "      <td>-0.915389</td>\n",
       "      <td>-0.30579</td>\n",
       "      <td>-1.468566</td>\n",
       "      <td>-1.229916</td>\n",
       "      <td>-0.658697</td>\n",
       "      <td>1.293731</td>\n",
       "      <td>...</td>\n",
       "      <td>-0.087181</td>\n",
       "      <td>-0.350481</td>\n",
       "      <td>2.074011</td>\n",
       "      <td>-0.419600</td>\n",
       "      <td>-0.479094</td>\n",
       "      <td>-0.214086</td>\n",
       "      <td>-0.287712</td>\n",
       "      <td>-0.112274</td>\n",
       "      <td>-0.16885</td>\n",
       "      <td>-0.048158</td>\n",
       "    </tr>\n",
       "    <tr>\n",
       "      <th>3</th>\n",
       "      <td>0.676667</td>\n",
       "      <td>1.149611</td>\n",
       "      <td>-0.130534</td>\n",
       "      <td>-0.243983</td>\n",
       "      <td>-0.915389</td>\n",
       "      <td>-0.30579</td>\n",
       "      <td>-0.563993</td>\n",
       "      <td>-0.891735</td>\n",
       "      <td>1.397518</td>\n",
       "      <td>0.204281</td>\n",
       "      <td>...</td>\n",
       "      <td>-0.087181</td>\n",
       "      <td>-0.350481</td>\n",
       "      <td>-0.482158</td>\n",
       "      <td>2.383223</td>\n",
       "      <td>-0.479094</td>\n",
       "      <td>-0.214086</td>\n",
       "      <td>-0.287712</td>\n",
       "      <td>-0.112274</td>\n",
       "      <td>-0.16885</td>\n",
       "      <td>-0.048158</td>\n",
       "    </tr>\n",
       "    <tr>\n",
       "      <th>4</th>\n",
       "      <td>-0.398724</td>\n",
       "      <td>-0.148958</td>\n",
       "      <td>-0.435436</td>\n",
       "      <td>-0.169628</td>\n",
       "      <td>-0.915389</td>\n",
       "      <td>-0.30579</td>\n",
       "      <td>0.340581</td>\n",
       "      <td>-0.130827</td>\n",
       "      <td>-0.658697</td>\n",
       "      <td>-0.544715</td>\n",
       "      <td>...</td>\n",
       "      <td>-0.087181</td>\n",
       "      <td>-0.350481</td>\n",
       "      <td>-0.482158</td>\n",
       "      <td>-0.419600</td>\n",
       "      <td>2.087275</td>\n",
       "      <td>-0.214086</td>\n",
       "      <td>-0.287712</td>\n",
       "      <td>-0.112274</td>\n",
       "      <td>-0.16885</td>\n",
       "      <td>-0.048158</td>\n",
       "    </tr>\n",
       "  </tbody>\n",
       "</table>\n",
       "<p>5 rows × 30 columns</p>\n",
       "</div>"
      ],
      "text/plain": [
       "   No of Bedrooms  No of Bathrooms  Flat Area (in Sqft)  Lot Area (in Sqft)  \\\n",
       "0       -0.398724        -1.447526            -0.979905           -0.228291   \n",
       "1       -0.398724         0.175684             0.533718           -0.189858   \n",
       "2       -1.474115        -1.447526            -1.426369           -0.123276   \n",
       "3        0.676667         1.149611            -0.130534           -0.243983   \n",
       "4       -0.398724        -0.148958            -0.435436           -0.169628   \n",
       "\n",
       "   No of Floors  No of Times Visited  Overall Grade  \\\n",
       "0     -0.915389             -0.30579      -0.563993   \n",
       "1      0.936817             -0.30579      -0.563993   \n",
       "2     -0.915389             -0.30579      -1.468566   \n",
       "3     -0.915389             -0.30579      -0.563993   \n",
       "4     -0.915389             -0.30579       0.340581   \n",
       "\n",
       "   Area of the House from Basement (in Sqft)  Basement Area (in Sqft)  \\\n",
       "0                                  -0.734722                -0.658697   \n",
       "1                                   0.460990                 0.245134   \n",
       "2                                  -1.229916                -0.658697   \n",
       "3                                  -0.891735                 1.397518   \n",
       "4                                  -0.130827                -0.658697   \n",
       "\n",
       "   Age of House (in Years)  ...  Waterfront_View_Yes  \\\n",
       "0                 0.544734  ...            -0.087181   \n",
       "1                 0.680915  ...            -0.087181   \n",
       "2                 1.293731  ...            -0.087181   \n",
       "3                 0.204281  ...            -0.087181   \n",
       "4                -0.544715  ...            -0.087181   \n",
       "\n",
       "   Zipcode_Group_Zipcode_Group_1  Zipcode_Group_Zipcode_Group_2  \\\n",
       "0                      -0.350481                      -0.482158   \n",
       "1                      -0.350481                       2.074011   \n",
       "2                      -0.350481                       2.074011   \n",
       "3                      -0.350481                      -0.482158   \n",
       "4                      -0.350481                      -0.482158   \n",
       "\n",
       "   Zipcode_Group_Zipcode_Group_3  Zipcode_Group_Zipcode_Group_4  \\\n",
       "0                      -0.419600                      -0.479094   \n",
       "1                      -0.419600                      -0.479094   \n",
       "2                      -0.419600                      -0.479094   \n",
       "3                       2.383223                      -0.479094   \n",
       "4                      -0.419600                       2.087275   \n",
       "\n",
       "   Zipcode_Group_Zipcode_Group_5  Zipcode_Group_Zipcode_Group_6  \\\n",
       "0                      -0.214086                      -0.287712   \n",
       "1                      -0.214086                      -0.287712   \n",
       "2                      -0.214086                      -0.287712   \n",
       "3                      -0.214086                      -0.287712   \n",
       "4                      -0.214086                      -0.287712   \n",
       "\n",
       "   Zipcode_Group_Zipcode_Group_7  Zipcode_Group_Zipcode_Group_8  \\\n",
       "0                      -0.112274                       -0.16885   \n",
       "1                      -0.112274                       -0.16885   \n",
       "2                      -0.112274                       -0.16885   \n",
       "3                      -0.112274                       -0.16885   \n",
       "4                      -0.112274                       -0.16885   \n",
       "\n",
       "   Zipcode_Group_Zipcode_Group_9  \n",
       "0                      -0.048158  \n",
       "1                      -0.048158  \n",
       "2                      -0.048158  \n",
       "3                      -0.048158  \n",
       "4                      -0.048158  \n",
       "\n",
       "[5 rows x 30 columns]"
      ]
     },
     "execution_count": 36,
     "metadata": {},
     "output_type": "execute_result"
    }
   ],
   "source": [
    "scaler = StandardScaler()\n",
    "y = data[\"Sale_Price\"]\n",
    "X = scaler.fit_transform(data.drop(columns = [\"Sale_Price\"]))\n",
    "x = pd.DataFrame(data = X, columns = data.drop(columns = [\"Sale_Price\"]).columns)\n",
    "x.head()"
   ]
  },
  {
   "cell_type": "code",
   "execution_count": 38,
   "id": "2edecc8b-48bb-4e39-b63b-a1c2b36a7556",
   "metadata": {},
   "outputs": [
    {
     "name": "stdout",
     "output_type": "stream",
     "text": [
      "No of Bedrooms No of Bathrooms\n",
      "No of Bedrooms Flat Area (in Sqft)\n",
      "No of Bathrooms No of Bedrooms\n",
      "No of Bathrooms Flat Area (in Sqft)\n",
      "No of Bathrooms No of Floors\n",
      "No of Bathrooms Overall Grade\n",
      "No of Bathrooms Area of the House from Basement (in Sqft)\n",
      "No of Bathrooms Living Area after Renovation (in Sqft)\n",
      "Flat Area (in Sqft) No of Bedrooms\n",
      "Flat Area (in Sqft) No of Bathrooms\n",
      "Flat Area (in Sqft) Overall Grade\n",
      "Flat Area (in Sqft) Area of the House from Basement (in Sqft)\n",
      "Flat Area (in Sqft) Living Area after Renovation (in Sqft)\n",
      "Lot Area (in Sqft) Lot Area after Renovation (in Sqft)\n",
      "No of Floors No of Bathrooms\n",
      "No of Floors Area of the House from Basement (in Sqft)\n",
      "Overall Grade No of Bathrooms\n",
      "Overall Grade Flat Area (in Sqft)\n",
      "Overall Grade Area of the House from Basement (in Sqft)\n",
      "Overall Grade Living Area after Renovation (in Sqft)\n",
      "Area of the House from Basement (in Sqft) No of Bathrooms\n",
      "Area of the House from Basement (in Sqft) Flat Area (in Sqft)\n",
      "Area of the House from Basement (in Sqft) No of Floors\n",
      "Area of the House from Basement (in Sqft) Overall Grade\n",
      "Area of the House from Basement (in Sqft) Living Area after Renovation (in Sqft)\n",
      "Living Area after Renovation (in Sqft) No of Bathrooms\n",
      "Living Area after Renovation (in Sqft) Flat Area (in Sqft)\n",
      "Living Area after Renovation (in Sqft) Overall Grade\n",
      "Living Area after Renovation (in Sqft) Area of the House from Basement (in Sqft)\n",
      "Lot Area after Renovation (in Sqft) Lot Area (in Sqft)\n",
      "Years Since Renovation Ever_Renovated_Yes\n",
      "Ever_Renovated_Yes Years Since Renovation\n"
     ]
    }
   ],
   "source": [
    "k = x.corr()\n",
    "for i in k.columns:\n",
    "    for j in k.columns:\n",
    "        if(k.loc[i,j] > abs(0.5))&(i != j):\n",
    "            print(str(i),str(j))\n"
   ]
  },
  {
   "cell_type": "code",
   "execution_count": 39,
   "id": "854ab7d6-c102-4599-9257-b3c4629032e5",
   "metadata": {
    "scrolled": true
   },
   "outputs": [
    {
     "data": {
      "text/plain": [
       "No of Bedrooms                                  1.639470\n",
       "No of Bathrooms                                 3.374992\n",
       "Flat Area (in Sqft)                          1481.681648\n",
       "Lot Area (in Sqft)                              2.108079\n",
       "No of Floors                                    2.127787\n",
       "No of Times Visited                             1.432385\n",
       "Overall Grade                                   2.967448\n",
       "Area of the House from Basement (in Sqft)    1205.549115\n",
       "Basement Area (in Sqft)                       345.465009\n",
       "Age of House (in Years)                         2.629539\n",
       "Latitude                                        2.471442\n",
       "Longitude                                       1.672691\n",
       "Living Area after Renovation (in Sqft)          3.068139\n",
       "Lot Area after Renovation (in Sqft)             2.144347\n",
       "Years Since Renovation                          2.788098\n",
       "Condition_of_the_House_Excellent               53.578111\n",
       "Condition_of_the_House_Fair                   166.129930\n",
       "Condition_of_the_House_Good                   141.324536\n",
       "Condition_of_the_House_Okay                     6.703057\n",
       "Ever_Renovated_Yes                              2.955790\n",
       "Waterfront_View_Yes                             1.208439\n",
       "Zipcode_Group_Zipcode_Group_1                   1.538226\n",
       "Zipcode_Group_Zipcode_Group_2                   2.570591\n",
       "Zipcode_Group_Zipcode_Group_3                   2.818579\n",
       "Zipcode_Group_Zipcode_Group_4                   3.193051\n",
       "Zipcode_Group_Zipcode_Group_5                   1.728330\n",
       "Zipcode_Group_Zipcode_Group_6                   2.015017\n",
       "Zipcode_Group_Zipcode_Group_7                   1.233754\n",
       "Zipcode_Group_Zipcode_Group_8                   1.389653\n",
       "Zipcode_Group_Zipcode_Group_9                   1.048579\n",
       "dtype: float64"
      ]
     },
     "execution_count": 39,
     "metadata": {},
     "output_type": "execute_result"
    }
   ],
   "source": [
    "#multicolineer \n",
    "vif_data = x\n",
    "VIF = pd.Series([vif_test(vif_data.values,i) for i in range(vif_data.shape[1])],index = vif_data.columns)\n",
    "VIF"
   ]
  },
  {
   "cell_type": "code",
   "execution_count": 40,
   "id": "6f7bb7e5-c9eb-46cd-bb2d-3bd98536f9fd",
   "metadata": {},
   "outputs": [
    {
     "data": {
      "text/plain": [
       "'Flat Area (in Sqft)'"
      ]
     },
     "execution_count": 40,
     "metadata": {},
     "output_type": "execute_result"
    }
   ],
   "source": [
    "VIF[VIF == VIF.max()].index[0]"
   ]
  },
  {
   "cell_type": "code",
   "execution_count": 41,
   "id": "5e14b791-743d-4d05-bcac-f4bbfed39e49",
   "metadata": {},
   "outputs": [],
   "source": [
    "def MC_remover(data):\n",
    "    vif = pd.Series([vif_test(vif_data.values,i) for i in range(vif_data.shape[1])],index = vif_data.columns)\n",
    "    if vif.max() > 5:\n",
    "        print([vif[vif == vif.max()].index[0]],\"has been removed\")\n",
    "        data = data.drop(columns = [vif[vif == vif.max()].index[0]])\n",
    "        return data\n",
    "    else:\n",
    "        print(\"no more multicolinear\")\n",
    "        return data"
   ]
  },
  {
   "cell_type": "code",
   "execution_count": 42,
   "id": "d529bbe9-8422-4ce3-bf68-db38326135f5",
   "metadata": {},
   "outputs": [
    {
     "name": "stdout",
     "output_type": "stream",
     "text": [
      "['Flat Area (in Sqft)'] has been removed\n",
      "['Condition_of_the_House_Fair'] has been removed\n",
      "no more multicolinear\n",
      "no more multicolinear\n",
      "no more multicolinear\n",
      "no more multicolinear\n",
      "no more multicolinear\n"
     ]
    },
    {
     "data": {
      "text/html": [
       "<div>\n",
       "<style scoped>\n",
       "    .dataframe tbody tr th:only-of-type {\n",
       "        vertical-align: middle;\n",
       "    }\n",
       "\n",
       "    .dataframe tbody tr th {\n",
       "        vertical-align: top;\n",
       "    }\n",
       "\n",
       "    .dataframe thead th {\n",
       "        text-align: right;\n",
       "    }\n",
       "</style>\n",
       "<table border=\"1\" class=\"dataframe\">\n",
       "  <thead>\n",
       "    <tr style=\"text-align: right;\">\n",
       "      <th></th>\n",
       "      <th>No of Bedrooms</th>\n",
       "      <th>No of Bathrooms</th>\n",
       "      <th>Lot Area (in Sqft)</th>\n",
       "      <th>No of Floors</th>\n",
       "      <th>No of Times Visited</th>\n",
       "      <th>Overall Grade</th>\n",
       "      <th>Area of the House from Basement (in Sqft)</th>\n",
       "      <th>Basement Area (in Sqft)</th>\n",
       "      <th>Age of House (in Years)</th>\n",
       "      <th>Latitude</th>\n",
       "      <th>...</th>\n",
       "      <th>Waterfront_View_Yes</th>\n",
       "      <th>Zipcode_Group_Zipcode_Group_1</th>\n",
       "      <th>Zipcode_Group_Zipcode_Group_2</th>\n",
       "      <th>Zipcode_Group_Zipcode_Group_3</th>\n",
       "      <th>Zipcode_Group_Zipcode_Group_4</th>\n",
       "      <th>Zipcode_Group_Zipcode_Group_5</th>\n",
       "      <th>Zipcode_Group_Zipcode_Group_6</th>\n",
       "      <th>Zipcode_Group_Zipcode_Group_7</th>\n",
       "      <th>Zipcode_Group_Zipcode_Group_8</th>\n",
       "      <th>Zipcode_Group_Zipcode_Group_9</th>\n",
       "    </tr>\n",
       "  </thead>\n",
       "  <tbody>\n",
       "    <tr>\n",
       "      <th>0</th>\n",
       "      <td>-0.398724</td>\n",
       "      <td>-1.447526</td>\n",
       "      <td>-0.228291</td>\n",
       "      <td>-0.915389</td>\n",
       "      <td>-0.30579</td>\n",
       "      <td>-0.563993</td>\n",
       "      <td>-0.734722</td>\n",
       "      <td>-0.658697</td>\n",
       "      <td>0.544734</td>\n",
       "      <td>-0.352576</td>\n",
       "      <td>...</td>\n",
       "      <td>-0.087181</td>\n",
       "      <td>-0.350481</td>\n",
       "      <td>-0.482158</td>\n",
       "      <td>-0.419600</td>\n",
       "      <td>-0.479094</td>\n",
       "      <td>-0.214086</td>\n",
       "      <td>-0.287712</td>\n",
       "      <td>-0.112274</td>\n",
       "      <td>-0.16885</td>\n",
       "      <td>-0.048158</td>\n",
       "    </tr>\n",
       "    <tr>\n",
       "      <th>1</th>\n",
       "      <td>-0.398724</td>\n",
       "      <td>0.175684</td>\n",
       "      <td>-0.189858</td>\n",
       "      <td>0.936817</td>\n",
       "      <td>-0.30579</td>\n",
       "      <td>-0.563993</td>\n",
       "      <td>0.460990</td>\n",
       "      <td>0.245134</td>\n",
       "      <td>0.680915</td>\n",
       "      <td>1.161645</td>\n",
       "      <td>...</td>\n",
       "      <td>-0.087181</td>\n",
       "      <td>-0.350481</td>\n",
       "      <td>2.074011</td>\n",
       "      <td>-0.419600</td>\n",
       "      <td>-0.479094</td>\n",
       "      <td>-0.214086</td>\n",
       "      <td>-0.287712</td>\n",
       "      <td>-0.112274</td>\n",
       "      <td>-0.16885</td>\n",
       "      <td>-0.048158</td>\n",
       "    </tr>\n",
       "    <tr>\n",
       "      <th>2</th>\n",
       "      <td>-1.474115</td>\n",
       "      <td>-1.447526</td>\n",
       "      <td>-0.123276</td>\n",
       "      <td>-0.915389</td>\n",
       "      <td>-0.30579</td>\n",
       "      <td>-1.468566</td>\n",
       "      <td>-1.229916</td>\n",
       "      <td>-0.658697</td>\n",
       "      <td>1.293731</td>\n",
       "      <td>1.283619</td>\n",
       "      <td>...</td>\n",
       "      <td>-0.087181</td>\n",
       "      <td>-0.350481</td>\n",
       "      <td>2.074011</td>\n",
       "      <td>-0.419600</td>\n",
       "      <td>-0.479094</td>\n",
       "      <td>-0.214086</td>\n",
       "      <td>-0.287712</td>\n",
       "      <td>-0.112274</td>\n",
       "      <td>-0.16885</td>\n",
       "      <td>-0.048158</td>\n",
       "    </tr>\n",
       "    <tr>\n",
       "      <th>3</th>\n",
       "      <td>0.676667</td>\n",
       "      <td>1.149611</td>\n",
       "      <td>-0.243983</td>\n",
       "      <td>-0.915389</td>\n",
       "      <td>-0.30579</td>\n",
       "      <td>-0.563993</td>\n",
       "      <td>-0.891735</td>\n",
       "      <td>1.397518</td>\n",
       "      <td>0.204281</td>\n",
       "      <td>-0.283288</td>\n",
       "      <td>...</td>\n",
       "      <td>-0.087181</td>\n",
       "      <td>-0.350481</td>\n",
       "      <td>-0.482158</td>\n",
       "      <td>2.383223</td>\n",
       "      <td>-0.479094</td>\n",
       "      <td>-0.214086</td>\n",
       "      <td>-0.287712</td>\n",
       "      <td>-0.112274</td>\n",
       "      <td>-0.16885</td>\n",
       "      <td>-0.048158</td>\n",
       "    </tr>\n",
       "    <tr>\n",
       "      <th>4</th>\n",
       "      <td>-0.398724</td>\n",
       "      <td>-0.148958</td>\n",
       "      <td>-0.169628</td>\n",
       "      <td>-0.915389</td>\n",
       "      <td>-0.30579</td>\n",
       "      <td>0.340581</td>\n",
       "      <td>-0.130827</td>\n",
       "      <td>-0.658697</td>\n",
       "      <td>-0.544715</td>\n",
       "      <td>0.409587</td>\n",
       "      <td>...</td>\n",
       "      <td>-0.087181</td>\n",
       "      <td>-0.350481</td>\n",
       "      <td>-0.482158</td>\n",
       "      <td>-0.419600</td>\n",
       "      <td>2.087275</td>\n",
       "      <td>-0.214086</td>\n",
       "      <td>-0.287712</td>\n",
       "      <td>-0.112274</td>\n",
       "      <td>-0.16885</td>\n",
       "      <td>-0.048158</td>\n",
       "    </tr>\n",
       "  </tbody>\n",
       "</table>\n",
       "<p>5 rows × 28 columns</p>\n",
       "</div>"
      ],
      "text/plain": [
       "   No of Bedrooms  No of Bathrooms  Lot Area (in Sqft)  No of Floors  \\\n",
       "0       -0.398724        -1.447526           -0.228291     -0.915389   \n",
       "1       -0.398724         0.175684           -0.189858      0.936817   \n",
       "2       -1.474115        -1.447526           -0.123276     -0.915389   \n",
       "3        0.676667         1.149611           -0.243983     -0.915389   \n",
       "4       -0.398724        -0.148958           -0.169628     -0.915389   \n",
       "\n",
       "   No of Times Visited  Overall Grade  \\\n",
       "0             -0.30579      -0.563993   \n",
       "1             -0.30579      -0.563993   \n",
       "2             -0.30579      -1.468566   \n",
       "3             -0.30579      -0.563993   \n",
       "4             -0.30579       0.340581   \n",
       "\n",
       "   Area of the House from Basement (in Sqft)  Basement Area (in Sqft)  \\\n",
       "0                                  -0.734722                -0.658697   \n",
       "1                                   0.460990                 0.245134   \n",
       "2                                  -1.229916                -0.658697   \n",
       "3                                  -0.891735                 1.397518   \n",
       "4                                  -0.130827                -0.658697   \n",
       "\n",
       "   Age of House (in Years)  Latitude  ...  Waterfront_View_Yes  \\\n",
       "0                 0.544734 -0.352576  ...            -0.087181   \n",
       "1                 0.680915  1.161645  ...            -0.087181   \n",
       "2                 1.293731  1.283619  ...            -0.087181   \n",
       "3                 0.204281 -0.283288  ...            -0.087181   \n",
       "4                -0.544715  0.409587  ...            -0.087181   \n",
       "\n",
       "   Zipcode_Group_Zipcode_Group_1  Zipcode_Group_Zipcode_Group_2  \\\n",
       "0                      -0.350481                      -0.482158   \n",
       "1                      -0.350481                       2.074011   \n",
       "2                      -0.350481                       2.074011   \n",
       "3                      -0.350481                      -0.482158   \n",
       "4                      -0.350481                      -0.482158   \n",
       "\n",
       "   Zipcode_Group_Zipcode_Group_3  Zipcode_Group_Zipcode_Group_4  \\\n",
       "0                      -0.419600                      -0.479094   \n",
       "1                      -0.419600                      -0.479094   \n",
       "2                      -0.419600                      -0.479094   \n",
       "3                       2.383223                      -0.479094   \n",
       "4                      -0.419600                       2.087275   \n",
       "\n",
       "   Zipcode_Group_Zipcode_Group_5  Zipcode_Group_Zipcode_Group_6  \\\n",
       "0                      -0.214086                      -0.287712   \n",
       "1                      -0.214086                      -0.287712   \n",
       "2                      -0.214086                      -0.287712   \n",
       "3                      -0.214086                      -0.287712   \n",
       "4                      -0.214086                      -0.287712   \n",
       "\n",
       "   Zipcode_Group_Zipcode_Group_7  Zipcode_Group_Zipcode_Group_8  \\\n",
       "0                      -0.112274                       -0.16885   \n",
       "1                      -0.112274                       -0.16885   \n",
       "2                      -0.112274                       -0.16885   \n",
       "3                      -0.112274                       -0.16885   \n",
       "4                      -0.112274                       -0.16885   \n",
       "\n",
       "   Zipcode_Group_Zipcode_Group_9  \n",
       "0                      -0.048158  \n",
       "1                      -0.048158  \n",
       "2                      -0.048158  \n",
       "3                      -0.048158  \n",
       "4                      -0.048158  \n",
       "\n",
       "[5 rows x 28 columns]"
      ]
     },
     "execution_count": 42,
     "metadata": {},
     "output_type": "execute_result"
    }
   ],
   "source": [
    "for i in range(7):\n",
    "    vif_data = MC_remover(vif_data)\n",
    "vif_data.head()\n"
   ]
  },
  {
   "cell_type": "code",
   "execution_count": 43,
   "id": "9a74da7a-f96f-4a74-863e-e51648ec9aae",
   "metadata": {},
   "outputs": [
    {
     "data": {
      "text/plain": [
       "No of Bedrooms                               1.638990\n",
       "No of Bathrooms                              3.373805\n",
       "Lot Area (in Sqft)                           2.107495\n",
       "No of Floors                                 2.127703\n",
       "No of Times Visited                          1.432363\n",
       "Overall Grade                                2.956967\n",
       "Area of the House from Basement (in Sqft)    4.580042\n",
       "Basement Area (in Sqft)                      1.974981\n",
       "Age of House (in Years)                      2.626504\n",
       "Latitude                                     2.471343\n",
       "Longitude                                    1.672667\n",
       "Living Area after Renovation (in Sqft)       3.063886\n",
       "Lot Area after Renovation (in Sqft)          2.144068\n",
       "Years Since Renovation                       2.788064\n",
       "Condition_of_the_House_Excellent             1.206487\n",
       "Condition_of_the_House_Good                  1.251488\n",
       "Condition_of_the_House_Okay                  1.025386\n",
       "Ever_Renovated_Yes                           2.955539\n",
       "Waterfront_View_Yes                          1.208288\n",
       "Zipcode_Group_Zipcode_Group_1                1.538211\n",
       "Zipcode_Group_Zipcode_Group_2                2.570583\n",
       "Zipcode_Group_Zipcode_Group_3                2.818509\n",
       "Zipcode_Group_Zipcode_Group_4                3.192429\n",
       "Zipcode_Group_Zipcode_Group_5                1.728047\n",
       "Zipcode_Group_Zipcode_Group_6                2.014775\n",
       "Zipcode_Group_Zipcode_Group_7                1.233626\n",
       "Zipcode_Group_Zipcode_Group_8                1.389355\n",
       "Zipcode_Group_Zipcode_Group_9                1.048571\n",
       "dtype: float64"
      ]
     },
     "execution_count": 43,
     "metadata": {},
     "output_type": "execute_result"
    }
   ],
   "source": [
    "# remaining multicolineer \n",
    "VIF = pd.Series([vif_test(vif_data.values,i) for i in range(vif_data.shape[1])],index = vif_data.columns)\n",
    "VIF"
   ]
  },
  {
   "cell_type": "code",
   "execution_count": null,
   "id": "8269d40d-ab5f-432d-907e-5200b20e528f",
   "metadata": {},
   "outputs": [],
   "source": []
  },
  {
   "cell_type": "markdown",
   "id": "5f8e487e-96b8-416e-adc5-faedb36a2c1a",
   "metadata": {},
   "source": [
    "# Test and Train data"
   ]
  },
  {
   "cell_type": "code",
   "execution_count": 44,
   "id": "40be63a7-ebc0-473e-bdba-935296bfbae3",
   "metadata": {},
   "outputs": [],
   "source": [
    "x = vif_data\n",
    "y = data[\"Sale_Price\"]"
   ]
  },
  {
   "cell_type": "code",
   "execution_count": 45,
   "id": "63566caf-bd7e-4444-b9aa-ccbd35caada4",
   "metadata": {},
   "outputs": [
    {
     "data": {
      "text/plain": [
       "((15126, 28), (6483, 28), (15126,), (6483,))"
      ]
     },
     "execution_count": 45,
     "metadata": {},
     "output_type": "execute_result"
    }
   ],
   "source": [
    "from sklearn.model_selection import train_test_split as tts\n",
    "x_train, x_test, y_train, y_test = tts(x,y,test_size = 0.3, random_state = 101)\n",
    "x_train.shape, x_test.shape, y_train.shape, y_test.shape\n"
   ]
  },
  {
   "cell_type": "markdown",
   "id": "5bdec90e-718f-49c7-99cb-056962520ae0",
   "metadata": {},
   "source": [
    "# linear regression"
   ]
  },
  {
   "cell_type": "code",
   "execution_count": 46,
   "id": "70d67c6a-af89-4c42-9b76-5ff02b8a562a",
   "metadata": {},
   "outputs": [],
   "source": [
    "from sklearn.linear_model import LinearRegression \n",
    "lr = LinearRegression()\n",
    "model = lr.fit(x_train,y_train)\n"
   ]
  },
  {
   "cell_type": "code",
   "execution_count": 47,
   "id": "80abeba5-c2ae-400b-ad23-6941348ee97d",
   "metadata": {},
   "outputs": [
    {
     "data": {
      "text/plain": [
       "6483"
      ]
     },
     "execution_count": 47,
     "metadata": {},
     "output_type": "execute_result"
    }
   ],
   "source": [
    "predi = lr.predict(x_test)\n",
    "lr.score(x_test, y_test)\n",
    "len(predi)"
   ]
  },
  {
   "cell_type": "code",
   "execution_count": 48,
   "id": "1b4c347b-f345-4ab9-ae58-96a8e028662b",
   "metadata": {},
   "outputs": [
    {
     "name": "stdout",
     "output_type": "stream",
     "text": [
      "mean absolute error 72311.45974752404\n"
     ]
    }
   ],
   "source": [
    "print(\"mean absolute error\",mean_absolute_error(y_test,predi))"
   ]
  },
  {
   "cell_type": "markdown",
   "id": "38f8c10f-fc62-4c23-94a9-d508d7678b1e",
   "metadata": {},
   "source": [
    "# residual plot optional"
   ]
  },
  {
   "cell_type": "code",
   "execution_count": 49,
   "id": "f6b9fbf8-afd2-4426-86d3-450d1cbf0660",
   "metadata": {},
   "outputs": [],
   "source": [
    "residual = predi - y_test\n",
    "resi_table = pd.DataFrame({\"predication\":predi,\n",
    "                          \"residual\":residual})\n",
    "resi_table = resi_table.sort_values(by = \"predication\")"
   ]
  },
  {
   "cell_type": "code",
   "execution_count": 50,
   "id": "a527513c-fd90-4641-ae1f-84fbc145fd4b",
   "metadata": {},
   "outputs": [],
   "source": [
    "z = [i for i in range(int(resi_table[\"predication\"].max()))]\n",
    "k = [0 for i in range(int(resi_table[\"predication\"].max()))]"
   ]
  },
  {
   "cell_type": "code",
   "execution_count": 51,
   "id": "92f26f33-b70a-4eaf-b921-03c371499a05",
   "metadata": {},
   "outputs": [
    {
     "data": {
      "text/plain": [
       "(0.0, 1750000.0)"
      ]
     },
     "execution_count": 51,
     "metadata": {},
     "output_type": "execute_result"
    },
    {
     "data": {
      "image/png": "[encoded data removed]",
      "text/plain": [
       "<Figure size 850x350 with 1 Axes>"
      ]
     },
     "metadata": {},
     "output_type": "display_data"
    }
   ],
   "source": [
    "plt.figure(dpi = 50,figsize = (17,7))\n",
    "plt.scatter(resi_table[\"predication\"],resi_table[\"residual\"],s = 2)\n",
    "plt.plot(z,k, color = \"red\")\n",
    "plt.ylim(-800000,800000)\n",
    "plt.xlim(0,1750000)"
   ]
  },
  {
   "cell_type": "code",
   "execution_count": 52,
   "id": "96bebbf3-4931-4284-be89-2af31aa15010",
   "metadata": {},
   "outputs": [
    {
     "data": {
      "image/png": "[encoded data removed]",
      "text/plain": [
       "<Figure size 500x350 with 1 Axes>"
      ]
     },
     "metadata": {},
     "output_type": "display_data"
    }
   ],
   "source": [
    "plt.figure(dpi = 50,figsize = (10,7))\n",
    "plt.hist(resi_table[\"residual\"],color = \"red\",bins = 130)\n",
    "plt.show()"
   ]
  },
  {
   "cell_type": "markdown",
   "id": "4578f0e3-f6c6-4820-b0a1-f173c94cd9d7",
   "metadata": {},
   "source": [
    "# model coefficients"
   ]
  },
  {
   "cell_type": "code",
   "execution_count": 53,
   "id": "9f28a66a-0027-473a-9462-da317687361b",
   "metadata": {},
   "outputs": [
    {
     "data": {
      "text/html": [
       "<div>\n",
       "<style scoped>\n",
       "    .dataframe tbody tr th:only-of-type {\n",
       "        vertical-align: middle;\n",
       "    }\n",
       "\n",
       "    .dataframe tbody tr th {\n",
       "        vertical-align: top;\n",
       "    }\n",
       "\n",
       "    .dataframe thead th {\n",
       "        text-align: right;\n",
       "    }\n",
       "</style>\n",
       "<table border=\"1\" class=\"dataframe\">\n",
       "  <thead>\n",
       "    <tr style=\"text-align: right;\">\n",
       "      <th></th>\n",
       "      <th>columns</th>\n",
       "      <th>coeff</th>\n",
       "    </tr>\n",
       "  </thead>\n",
       "  <tbody>\n",
       "    <tr>\n",
       "      <th>10</th>\n",
       "      <td>Longitude</td>\n",
       "      <td>-23854.326402</td>\n",
       "    </tr>\n",
       "    <tr>\n",
       "      <th>13</th>\n",
       "      <td>Years Since Renovation</td>\n",
       "      <td>-10179.085198</td>\n",
       "    </tr>\n",
       "    <tr>\n",
       "      <th>0</th>\n",
       "      <td>No of Bedrooms</td>\n",
       "      <td>-3928.662476</td>\n",
       "    </tr>\n",
       "    <tr>\n",
       "      <th>12</th>\n",
       "      <td>Lot Area after Renovation (in Sqft)</td>\n",
       "      <td>-2896.985429</td>\n",
       "    </tr>\n",
       "    <tr>\n",
       "      <th>16</th>\n",
       "      <td>Condition_of_the_House_Okay</td>\n",
       "      <td>-2296.648881</td>\n",
       "    </tr>\n",
       "    <tr>\n",
       "      <th>3</th>\n",
       "      <td>No of Floors</td>\n",
       "      <td>2697.552786</td>\n",
       "    </tr>\n",
       "    <tr>\n",
       "      <th>15</th>\n",
       "      <td>Condition_of_the_House_Good</td>\n",
       "      <td>5095.976036</td>\n",
       "    </tr>\n",
       "    <tr>\n",
       "      <th>18</th>\n",
       "      <td>Waterfront_View_Yes</td>\n",
       "      <td>10761.770079</td>\n",
       "    </tr>\n",
       "    <tr>\n",
       "      <th>1</th>\n",
       "      <td>No of Bathrooms</td>\n",
       "      <td>12028.445607</td>\n",
       "    </tr>\n",
       "    <tr>\n",
       "      <th>19</th>\n",
       "      <td>Zipcode_Group_Zipcode_Group_1</td>\n",
       "      <td>12165.833721</td>\n",
       "    </tr>\n",
       "    <tr>\n",
       "      <th>14</th>\n",
       "      <td>Condition_of_the_House_Excellent</td>\n",
       "      <td>14239.353333</td>\n",
       "    </tr>\n",
       "    <tr>\n",
       "      <th>17</th>\n",
       "      <td>Ever_Renovated_Yes</td>\n",
       "      <td>14594.338480</td>\n",
       "    </tr>\n",
       "    <tr>\n",
       "      <th>2</th>\n",
       "      <td>Lot Area (in Sqft)</td>\n",
       "      <td>14967.004976</td>\n",
       "    </tr>\n",
       "    <tr>\n",
       "      <th>11</th>\n",
       "      <td>Living Area after Renovation (in Sqft)</td>\n",
       "      <td>17943.267298</td>\n",
       "    </tr>\n",
       "    <tr>\n",
       "      <th>9</th>\n",
       "      <td>Latitude</td>\n",
       "      <td>21397.403420</td>\n",
       "    </tr>\n",
       "    <tr>\n",
       "      <th>27</th>\n",
       "      <td>Zipcode_Group_Zipcode_Group_9</td>\n",
       "      <td>22113.749441</td>\n",
       "    </tr>\n",
       "    <tr>\n",
       "      <th>4</th>\n",
       "      <td>No of Times Visited</td>\n",
       "      <td>27220.313134</td>\n",
       "    </tr>\n",
       "    <tr>\n",
       "      <th>7</th>\n",
       "      <td>Basement Area (in Sqft)</td>\n",
       "      <td>27729.567154</td>\n",
       "    </tr>\n",
       "    <tr>\n",
       "      <th>8</th>\n",
       "      <td>Age of House (in Years)</td>\n",
       "      <td>27873.902313</td>\n",
       "    </tr>\n",
       "    <tr>\n",
       "      <th>20</th>\n",
       "      <td>Zipcode_Group_Zipcode_Group_2</td>\n",
       "      <td>33842.295444</td>\n",
       "    </tr>\n",
       "    <tr>\n",
       "      <th>25</th>\n",
       "      <td>Zipcode_Group_Zipcode_Group_7</td>\n",
       "      <td>40153.035952</td>\n",
       "    </tr>\n",
       "    <tr>\n",
       "      <th>23</th>\n",
       "      <td>Zipcode_Group_Zipcode_Group_5</td>\n",
       "      <td>50718.639479</td>\n",
       "    </tr>\n",
       "    <tr>\n",
       "      <th>5</th>\n",
       "      <td>Overall Grade</td>\n",
       "      <td>59965.446658</td>\n",
       "    </tr>\n",
       "    <tr>\n",
       "      <th>21</th>\n",
       "      <td>Zipcode_Group_Zipcode_Group_3</td>\n",
       "      <td>63269.828753</td>\n",
       "    </tr>\n",
       "    <tr>\n",
       "      <th>26</th>\n",
       "      <td>Zipcode_Group_Zipcode_Group_8</td>\n",
       "      <td>67405.702713</td>\n",
       "    </tr>\n",
       "    <tr>\n",
       "      <th>24</th>\n",
       "      <td>Zipcode_Group_Zipcode_Group_6</td>\n",
       "      <td>73274.095680</td>\n",
       "    </tr>\n",
       "    <tr>\n",
       "      <th>6</th>\n",
       "      <td>Area of the House from Basement (in Sqft)</td>\n",
       "      <td>80697.809070</td>\n",
       "    </tr>\n",
       "    <tr>\n",
       "      <th>22</th>\n",
       "      <td>Zipcode_Group_Zipcode_Group_4</td>\n",
       "      <td>81086.085532</td>\n",
       "    </tr>\n",
       "  </tbody>\n",
       "</table>\n",
       "</div>"
      ],
      "text/plain": [
       "                                      columns         coeff\n",
       "10                                  Longitude -23854.326402\n",
       "13                     Years Since Renovation -10179.085198\n",
       "0                              No of Bedrooms  -3928.662476\n",
       "12        Lot Area after Renovation (in Sqft)  -2896.985429\n",
       "16                Condition_of_the_House_Okay  -2296.648881\n",
       "3                                No of Floors   2697.552786\n",
       "15                Condition_of_the_House_Good   5095.976036\n",
       "18                        Waterfront_View_Yes  10761.770079\n",
       "1                             No of Bathrooms  12028.445607\n",
       "19              Zipcode_Group_Zipcode_Group_1  12165.833721\n",
       "14           Condition_of_the_House_Excellent  14239.353333\n",
       "17                         Ever_Renovated_Yes  14594.338480\n",
       "2                          Lot Area (in Sqft)  14967.004976\n",
       "11     Living Area after Renovation (in Sqft)  17943.267298\n",
       "9                                    Latitude  21397.403420\n",
       "27              Zipcode_Group_Zipcode_Group_9  22113.749441\n",
       "4                         No of Times Visited  27220.313134\n",
       "7                     Basement Area (in Sqft)  27729.567154\n",
       "8                     Age of House (in Years)  27873.902313\n",
       "20              Zipcode_Group_Zipcode_Group_2  33842.295444\n",
       "25              Zipcode_Group_Zipcode_Group_7  40153.035952\n",
       "23              Zipcode_Group_Zipcode_Group_5  50718.639479\n",
       "5                               Overall Grade  59965.446658\n",
       "21              Zipcode_Group_Zipcode_Group_3  63269.828753\n",
       "26              Zipcode_Group_Zipcode_Group_8  67405.702713\n",
       "24              Zipcode_Group_Zipcode_Group_6  73274.095680\n",
       "6   Area of the House from Basement (in Sqft)  80697.809070\n",
       "22              Zipcode_Group_Zipcode_Group_4  81086.085532"
      ]
     },
     "execution_count": 53,
     "metadata": {},
     "output_type": "execute_result"
    }
   ],
   "source": [
    "coeff_table = pd.DataFrame({\"columns\":x_train.columns,\"coeff\":lr.coef_})\n",
    "coeff_table = coeff_table.sort_values(by = \"coeff\")\n",
    "coeff_table"
   ]
  },
  {
   "cell_type": "code",
   "execution_count": 54,
   "id": "11530cfd-5205-44a3-af4d-2fbafde099f7",
   "metadata": {},
   "outputs": [
    {
     "data": {
      "image/png": "[encoded data removed]",
      "text/plain": [
       "<Figure size 640x480 with 1 Axes>"
      ]
     },
     "metadata": {},
     "output_type": "display_data"
    }
   ],
   "source": [
    "#plt.figure(figsize = (10,5), dpi = 100)\n",
    "x = coeff_table[\"columns\"]\n",
    "y = coeff_table[\"coeff\"]\n",
    "plt.barh(x,y) # histrogram\n",
    "plt.xlabel(\"Coefficient\")\n",
    "plt.ylabel(\"Variables\")\n",
    "plt.title(\"Coefficients of Variables\")\n",
    "plt.show()"
   ]
  },
  {
   "cell_type": "markdown",
   "id": "ce5b6dda-c9de-4075-b73a-d31702223642",
   "metadata": {},
   "source": [
    "#feature scaling"
   ]
  },
  {
   "cell_type": "code",
   "execution_count": 55,
   "id": "0901dc47-76f6-4edb-959c-d341c087587d",
   "metadata": {},
   "outputs": [
    {
     "data": {
      "image/png": "[encoded data removed]",
      "text/plain": [
       "<Figure size 640x480 with 1 Axes>"
      ]
     },
     "metadata": {},
     "output_type": "display_data"
    }
   ],
   "source": [
    "plt.hist(data[\"Flat Area (in Sqft)\"],bins = 130)\n",
    "plt.show()"
   ]
  },
  {
   "cell_type": "code",
   "execution_count": 56,
   "id": "1849e1e9-91b8-47d6-bccd-b4fec7a1a8b7",
   "metadata": {},
   "outputs": [
    {
     "data": {
      "image/png": "[encoded data removed]",
      "text/plain": [
       "<Figure size 640x480 with 1 Axes>"
      ]
     },
     "metadata": {},
     "output_type": "display_data"
    }
   ],
   "source": [
    "plt.hist(np.log(data[\"Flat Area (in Sqft)\"]),bins = 130)\n",
    "plt.show()"
   ]
  },
  {
   "cell_type": "code",
   "execution_count": null,
   "id": "1c4b9d90-b5ff-4225-90e2-d2321c5284d0",
   "metadata": {},
   "outputs": [],
   "source": []
  },
  {
   "cell_type": "code",
   "execution_count": null,
   "id": "2eac0079-cc0e-4d63-b13d-8a7201efb3af",
   "metadata": {},
   "outputs": [],
   "source": []
  },
  {
   "cell_type": "code",
   "execution_count": null,
   "id": "e80ee241-12b1-4407-b255-d4e7b66c1a18",
   "metadata": {},
   "outputs": [],
   "source": []
  },
  {
   "cell_type": "code",
   "execution_count": null,
   "id": "0120e26c-25a2-48db-a793-b8100461bde9",
   "metadata": {},
   "outputs": [],
   "source": []
  },
  {
   "cell_type": "code",
   "execution_count": null,
   "id": "c661a448-9fe8-483e-a015-cff271bb6159",
   "metadata": {},
   "outputs": [],
   "source": []
  },
  {
   "cell_type": "code",
   "execution_count": null,
   "id": "1c516ebe-d2f0-40d4-8990-f2cf34c8c598",
   "metadata": {},
   "outputs": [],
   "source": []
  },
  {
   "cell_type": "code",
   "execution_count": null,
   "id": "3902d16e-8bd4-49a2-87ab-af1f73bb21a6",
   "metadata": {},
   "outputs": [],
   "source": []
  },
  {
   "cell_type": "code",
   "execution_count": null,
   "id": "42f75a86-7b12-4358-a7a9-fd840e0cf97d",
   "metadata": {},
   "outputs": [],
   "source": []
  },
  {
   "cell_type": "code",
   "execution_count": null,
   "id": "7b7b0b14-98ec-4f0a-9b7b-df49454dbb51",
   "metadata": {},
   "outputs": [],
   "source": []
  },
  {
   "cell_type": "code",
   "execution_count": null,
   "id": "323bfec4-6fac-49eb-8a29-9e4802523e94",
   "metadata": {},
   "outputs": [],
   "source": []
  },
  {
   "cell_type": "code",
   "execution_count": null,
   "id": "ed606ed3-e7e1-409b-b507-b87acd844a47",
   "metadata": {},
   "outputs": [],
   "source": []
  },
  {
   "cell_type": "code",
   "execution_count": null,
   "id": "3ca486a2-fb62-4fec-9f9c-99d335091e0a",
   "metadata": {},
   "outputs": [],
   "source": []
  },
  {
   "cell_type": "code",
   "execution_count": null,
   "id": "0f706472-747d-455f-89db-ea260cee34b7",
   "metadata": {},
   "outputs": [],
   "source": []
  },
  {
   "cell_type": "code",
   "execution_count": null,
   "id": "cf23d238-75b8-4495-a7a0-127af06a23c9",
   "metadata": {},
   "outputs": [],
   "source": []
  },
  {
   "cell_type": "code",
   "execution_count": null,
   "id": "bc095b43-c38e-4f4f-bf36-173b4b8940a2",
   "metadata": {},
   "outputs": [],
   "source": []
  },
  {
   "cell_type": "code",
   "execution_count": null,
   "id": "aadeeaa4-f0ec-48f0-85d7-b6cd801be84f",
   "metadata": {},
   "outputs": [],
   "source": []
  },
  {
   "cell_type": "code",
   "execution_count": null,
   "id": "be768a43-0811-4e1f-a9f2-9880999f2828",
   "metadata": {},
   "outputs": [],
   "source": []
  },
  {
   "cell_type": "code",
   "execution_count": null,
   "id": "a051581e-36d7-4d1e-a59a-df3dadac1fa6",
   "metadata": {},
   "outputs": [],
   "source": []
  },
  {
   "cell_type": "code",
   "execution_count": null,
   "id": "74338a42-b1a6-4fe1-bd7b-f5192cf135bb",
   "metadata": {},
   "outputs": [],
   "source": []
  },
  {
   "cell_type": "code",
   "execution_count": null,
   "id": "414cd782-09a6-4f1a-83f4-cfa7f2a5a3a9",
   "metadata": {},
   "outputs": [],
   "source": []
  },
  {
   "cell_type": "code",
   "execution_count": null,
   "id": "6b960362-fc9a-40ad-ba54-f42f18fe1e87",
   "metadata": {},
   "outputs": [],
   "source": []
  }
 ],
 "metadata": {
  "kernelspec": {
   "display_name": "ML",
   "language": "python",
   "name": "python3"
  },
  "language_info": {
   "codemirror_mode": {
    "name": "ipython",
    "version": 3
   },
   "file_extension": ".py",
   "mimetype": "text/x-python",
   "name": "python",
   "nbconvert_exporter": "python",
   "pygments_lexer": "ipython3",
   "version": "3.11.11"
  }
 },
 "nbformat": 4,
 "nbformat_minor": 5
}
